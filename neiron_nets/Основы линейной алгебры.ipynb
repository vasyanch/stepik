{
 "cells": [
  {
   "cell_type": "code",
   "execution_count": 1,
   "metadata": {},
   "outputs": [
    {
     "name": "stdout",
     "output_type": "stream",
     "text": [
      "[[1 2 3]\n",
      " [4 5 6]]\n",
      "(2, 3)\n"
     ]
    }
   ],
   "source": [
    "import numpy as np\n",
    "a = np.array([[1, 2, 3], [4, 5, 6]])\n",
    "print(a)\n",
    "print(a.shape)"
   ]
  },
  {
   "cell_type": "code",
   "execution_count": 13,
   "metadata": {},
   "outputs": [
    {
     "name": "stdout",
     "output_type": "stream",
     "text": [
      "[[0. 0. 0.]\n",
      " [1. 0. 0.]\n",
      " [0. 1. 0.]\n",
      " [0. 0. 1.]\n",
      " [0. 0. 0.]]\n",
      "[[1 2 3]\n",
      " [4 5 6]]\n",
      "[[0. 0. 0. 0. 0. 0. 0.]\n",
      " [0. 0. 0. 0. 0. 0. 0.]\n",
      " [0. 0. 0. 0. 0. 0. 0.]\n",
      " [0. 0. 0. 0. 0. 0. 0.]\n",
      " [0. 0. 0. 0. 0. 0. 0.]\n",
      " [0. 0. 0. 0. 0. 0. 0.]]\n",
      "[[1. 1. 1.]\n",
      " [1. 1. 1.]]\n",
      "[[16 16 16 16]\n",
      " [16 16 16 16]]\n"
     ]
    }
   ],
   "source": [
    "print(np.eye(5,3, k=-1))\n",
    "print(np.array([[1, 2, 3], [4, 5, 6]]))\n",
    "print(np.zeros((6, 7)))\n",
    "print(np.ones((2, 3)))\n",
    "print(np.full((2, 4), 16))"
   ]
  },
  {
   "cell_type": "code",
   "execution_count": 16,
   "metadata": {},
   "outputs": [
    {
     "name": "stdout",
     "output_type": "stream",
     "text": [
      "[[1 2 3]\n",
      " [4 5 6]]\n",
      "5 3\n",
      "[3 6] [3 6]\n"
     ]
    }
   ],
   "source": [
    "print(a)\n",
    "print(a[1, 1], a[0, 2])\n",
    "print(a[..., 2], a[:, 2])"
   ]
  },
  {
   "cell_type": "code",
   "execution_count": 3,
   "metadata": {},
   "outputs": [
    {
     "name": "stdout",
     "output_type": "stream",
     "text": [
      "[[2. 1. 0. 0.]\n",
      " [0. 2. 1. 0.]\n",
      " [0. 0. 2. 1.]]\n"
     ]
    }
   ],
   "source": [
    "b = np.eye(3, 4) * 2 + np.eye(3, 4, k = 1)\n",
    "print(b)"
   ]
  },
  {
   "cell_type": "code",
   "execution_count": 4,
   "metadata": {},
   "outputs": [
    {
     "name": "stdout",
     "output_type": "stream",
     "text": [
      "[[[121 186 322]\n",
      "  [127 925 813]]\n",
      "\n",
      " [[506 922 159]\n",
      "  [683 539 525]]]\n",
      "\n",
      "[[[121 127]\n",
      "  [186 925]\n",
      "  [322 813]]\n",
      "\n",
      " [[506 683]\n",
      "  [922 539]\n",
      "  [159 525]]]\n",
      "\n",
      "[121 186 322 127 925 813 506 922 159 683 539 525]\n"
     ]
    }
   ],
   "source": [
    "import random\n",
    "w = np.array(random.sample(range(1000), 12)) # одномерный массив из 12 случайных чисел от 1 до 1000\n",
    "w = w.reshape((2,2,3)) # превратим w в трёхмерную матрицу\n",
    "print(w)\n",
    "print()\n",
    "print(w.transpose(0,2,1))\n",
    "print()\n",
    "print(w.flatten())"
   ]
  },
  {
   "cell_type": "code",
   "execution_count": 9,
   "metadata": {},
   "outputs": [
    {
     "name": "stdout",
     "output_type": "stream",
     "text": [
      "[[1 2 3 4]\n",
      " [1 2 3 4]\n",
      " [1 2 3 4]]\n",
      "[1. 2. 3. 4.]\n",
      "[2.5 2.5 2.5]\n",
      "2.5\n"
     ]
    }
   ],
   "source": [
    "v = np.array([[1, 2, 3, 4],\n",
    " [1, 2, 3, 4],\n",
    " [1, 2, 3, 4]])\n",
    "print(v)\n",
    "\n",
    "print(v.mean(axis=0))  # вдоль столбцов\n",
    "\n",
    "print(v.mean(axis=1))  # вдоль строк\n",
    "\n",
    "print(v.mean(axis=None))  # вдоль всего массива"
   ]
  },
  {
   "cell_type": "markdown",
   "metadata": {},
   "source": [
    "a.dot(b) — матричное произведение двух массивов (размерности должны быть согласованы),\n",
    "\n",
    "linalg.matrix_power(M, n) — возведение матрицы M в степень n,\n",
    "\n",
    "a.T — транспонирование\n",
    "\n",
    "linalg.norm(a, ord=None) — норма матрицы a, по умолчанию норма Фробениуса для матриц и L2-норма для\n",
    "векторов \n",
    "\n",
    "linalg.inv(a) — матрица, обратная к a (если a необратима, выбрасывается LinAlgError псевдообратная считается чере linalg.pinv(a))\n",
    "    \n",
    "a.sum(axis=None), a.prod(axis=None) — сумма и произведение всех элементов вдоль указанной оси. \n",
    "\n",
    "a.cumsum(axis=None), a.cumprod(axis=None) — частичные суммы и произведения (для (a1,⋯,an) вектор частичных сумм — \n",
    "                                                                            это (a1,a1+a2,⋯,a1+⋯+an))\n",
    "                                                                            \n",
    "a.min(axis=None), a.max(axis=None), a.mean(axis=None), a.std(axis=None) — минимум, максимум, среднее арифметическое \n",
    "и стандартное отклонение вдоль указанной оси. По умолчанию ось не указана и статистика считается по всему массиву. \n",
    "\n",
    "a.argmin(axis=None), a.argmax(axis=None) — индексы минимального и максимального элемента. \n",
    "\n",
    "sbux = np.loadtxt(\"sbux.csv\", usecols=(0,1,4), skiprows=1, delimiter=\",\", dtype={'names': ('date', 'open', 'close'),\n",
    "                             'formats': ('datetime64[D]', 'f4', 'f4')})\n",
    "\n",
    "np.hstack((array1, array2, ...))  # склеивает по строкам массивы, являющиеся компонентами кортежа, поданного на вход; \n",
    "массивы должны совпадать по всем измерениям, кроме второго\n",
    "\n",
    "np.ones_like(array)  # создаёт массив, состоящий из единиц, идентичный по форме массиву array"
   ]
  },
  {
   "cell_type": "markdown",
   "metadata": {},
   "source": []
  },
  {
   "cell_type": "code",
   "execution_count": 4,
   "metadata": {},
   "outputs": [
    {
     "name": "stdout",
     "output_type": "stream",
     "text": [
      "None\n"
     ]
    }
   ],
   "source": [
    "print(np.newaxis)"
   ]
  },
  {
   "cell_type": "code",
   "execution_count": null,
   "metadata": {},
   "outputs": [],
   "source": []
  }
 ],
 "metadata": {
  "kernelspec": {
   "display_name": "Python 3",
   "language": "python",
   "name": "python3"
  },
  "language_info": {
   "codemirror_mode": {
    "name": "ipython",
    "version": 3
   },
   "file_extension": ".py",
   "mimetype": "text/x-python",
   "name": "python",
   "nbconvert_exporter": "python",
   "pygments_lexer": "ipython3",
   "version": "3.7.3"
  }
 },
 "nbformat": 4,
 "nbformat_minor": 2
}
