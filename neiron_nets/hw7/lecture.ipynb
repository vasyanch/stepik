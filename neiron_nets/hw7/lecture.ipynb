{
 "cells": [
  {
   "cell_type": "markdown",
   "metadata": {},
   "source": [
    "# #10 Scientific Python"
   ]
  },
  {
   "cell_type": "markdown",
   "metadata": {},
   "source": [
    "1. [IPython](#IPython)\n",
    "2. [Numpy](#Numpy)\n",
    "    1. [ndarray](#ndarray)\n",
    "    2. [Vectorization](#Vectorization)\n",
    "    3. [Indexing](#Indexing)\n",
    "    4. [Swapping axes](#Swapping-axes)\n",
    "    5. [Universal functions](#Universal-functions)\n",
    "    6. [Data processing](#Data-processing)\n",
    "    7. [Useful logic](#Useful-logic)\n",
    "    8. [Linear Algebra](#Linear-Algebra)\n",
    "    9. [Random](#Random)\n",
    "3. [Advanced Numpy](#Advanced-Numpy)\n",
    "    1. [Array internals](#Array-internals)\n",
    "    2. [Manipulation](#Manipulation)\n",
    "    3. [Take](#Take)\n",
    "    4. [Broadcasting](#Broadcasting)\n",
    "    5. [ufunc](#ufunc)\n",
    "    6. [Structured arrays](#Structured-arrays)\n",
    "    7. [Memmap files](#Memmap-files)\n",
    "    8. [HDF5](#HDF5)\n"
   ]
  },
  {
   "cell_type": "markdown",
   "metadata": {},
   "source": [
    "## IPython"
   ]
  },
  {
   "cell_type": "code",
   "execution_count": 1,
   "metadata": {},
   "outputs": [],
   "source": [
    "%quickref"
   ]
  },
  {
   "cell_type": "markdown",
   "metadata": {},
   "source": [
    "Tab comleteion\n",
    "* names\n",
    "* paths"
   ]
  },
  {
   "cell_type": "markdown",
   "metadata": {},
   "source": [
    "__Introspection__"
   ]
  },
  {
   "cell_type": "code",
   "execution_count": 2,
   "metadata": {},
   "outputs": [],
   "source": [
    "b = [1, 2, 3]\n",
    "b?"
   ]
  },
  {
   "cell_type": "code",
   "execution_count": 256,
   "metadata": {
    "collapsed": true
   },
   "outputs": [],
   "source": [
    "str.split?"
   ]
  },
  {
   "cell_type": "code",
   "execution_count": 3,
   "metadata": {},
   "outputs": [],
   "source": [
    "import uuid\n",
    "uuid.uuid4??"
   ]
  },
  {
   "cell_type": "code",
   "execution_count": 4,
   "metadata": {},
   "outputs": [],
   "source": [
    "str.*split*?"
   ]
  },
  {
   "cell_type": "markdown",
   "metadata": {},
   "source": [
    "__Run__"
   ]
  },
  {
   "cell_type": "code",
   "execution_count": null,
   "metadata": {},
   "outputs": [],
   "source": [
    "# %load /Users/s.stupnikov/Dropbox/Teaching/Otus/lection10/gcd.py\n",
    "def gcd(a, b):\n",
    "    \"\"\"Computes the greatest common divisor of integers a and b using\n",
    "        Euclid's Algorithm.\n",
    "    \"\"\"\n",
    "    while True:\n",
    "        if b == 0:\n",
    "            return a\n",
    "        a, b = b, a % b\n",
    "\n",
    "print gcd(23424, 5654)\n"
   ]
  },
  {
   "cell_type": "code",
   "execution_count": 27,
   "metadata": {},
   "outputs": [
    {
     "name": "stdout",
     "output_type": "stream",
     "text": [
      "2\n"
     ]
    }
   ],
   "source": [
    "%run gcd.py"
   ]
  },
  {
   "cell_type": "markdown",
   "metadata": {},
   "source": [
    "__Magic__"
   ]
  },
  {
   "cell_type": "code",
   "execution_count": 5,
   "metadata": {},
   "outputs": [],
   "source": [
    "%magic"
   ]
  },
  {
   "cell_type": "code",
   "execution_count": 15,
   "metadata": {
    "collapsed": true
   },
   "outputs": [],
   "source": [
    "import numpy as np"
   ]
  },
  {
   "cell_type": "code",
   "execution_count": 17,
   "metadata": {},
   "outputs": [
    {
     "name": "stdout",
     "output_type": "stream",
     "text": [
      "The slowest run took 365.56 times longer than the fastest. This could mean that an intermediate result is being cached.\n",
      "10000 loops, best of 3: 96.6 µs per loop\n"
     ]
    }
   ],
   "source": [
    "a = np.random.randn(100, 100)\n",
    "%timeit np.dot(a, a)"
   ]
  },
  {
   "cell_type": "code",
   "execution_count": 6,
   "metadata": {},
   "outputs": [],
   "source": [
    "%reset?"
   ]
  },
  {
   "cell_type": "markdown",
   "metadata": {},
   "source": [
    "__Search and history__"
   ]
  },
  {
   "cell_type": "code",
   "execution_count": 41,
   "metadata": {},
   "outputs": [
    {
     "name": "stdout",
     "output_type": "stream",
     "text": [
      "%%quickref\n",
      "%quickref\n",
      "b = [1, 2, 3]\n",
      "b?\n",
      "b = [1, 2, 3]\n",
      "b?\n",
      "str.split?\n",
      "str.split??\n",
      "def gcd(a, b):\n",
      "    \"\"\"Computes the greatest common divisor of integers a and b using\n",
      "    Euclid's Algorithm.\n",
      "    \"\"\"\n",
      "    while True:\n",
      "        if b == 0:\n",
      "            return a\n",
      "        a, b = b, a % b\n",
      "gcd?\n",
      "import uuid\n",
      "uuid.uuid4??\n",
      "str.split?\n",
      "str.*split*?\n",
      "%run gcd.py\n",
      "print a, b\n",
      "%run gcd.py\n",
      "import numpy as np\n",
      "a = np.random.randn(100, 100)\n",
      "a = np.random.randn(100, 100)\n",
      "%timeit np.dot(a, a)\n",
      "%reset?\n",
      "'a' in _ip.user_ns\n",
      "%magic\n",
      "print _\n",
      "%run gcd.py\n",
      "print _\n",
      "%run gcd.py\n",
      "print _\n",
      "%run gcd.py\n",
      "%run gcd.py\n",
      "366*31*24*60*60\n",
      "print _\n",
      "_ * 10\n",
      "366*31*24*60*60\n",
      "_ * 2\n",
      "print _, __\n",
      "two_years_sec = 980294400\n",
      "print _i34, _34\n",
      "two_years_sec = 980294400\n",
      "two_years_sec\n",
      "print _i36, _36\n",
      "print _i36\n",
      "print _i36\n",
      "print _36\n",
      "exec _i36\n",
      "%hist\n"
     ]
    }
   ],
   "source": [
    "%hist"
   ]
  },
  {
   "cell_type": "code",
   "execution_count": 31,
   "metadata": {},
   "outputs": [
    {
     "data": {
      "text/plain": [
       "980294400"
      ]
     },
     "execution_count": 31,
     "metadata": {},
     "output_type": "execute_result"
    }
   ],
   "source": [
    "366*31*24*60*60"
   ]
  },
  {
   "cell_type": "code",
   "execution_count": 32,
   "metadata": {},
   "outputs": [
    {
     "data": {
      "text/plain": [
       "1960588800"
      ]
     },
     "execution_count": 32,
     "metadata": {},
     "output_type": "execute_result"
    }
   ],
   "source": [
    "_ * 2"
   ]
  },
  {
   "cell_type": "code",
   "execution_count": 33,
   "metadata": {},
   "outputs": [
    {
     "name": "stdout",
     "output_type": "stream",
     "text": [
      "1960588800 980294400\n"
     ]
    }
   ],
   "source": [
    "print _, __"
   ]
  },
  {
   "cell_type": "code",
   "execution_count": 36,
   "metadata": {},
   "outputs": [
    {
     "data": {
      "text/plain": [
       "980294400"
      ]
     },
     "execution_count": 36,
     "metadata": {},
     "output_type": "execute_result"
    },
    {
     "name": "stdout",
     "output_type": "stream",
     "text": [
      "\n"
     ]
    }
   ],
   "source": [
    "two_years_sec = 980294400\n",
    "two_years_sec"
   ]
  },
  {
   "cell_type": "code",
   "execution_count": 39,
   "metadata": {},
   "outputs": [
    {
     "name": "stdout",
     "output_type": "stream",
     "text": [
      "two_years_sec = 980294400\n",
      "two_years_sec\n",
      "980294400\n"
     ]
    }
   ],
   "source": [
    "print _i36\n",
    "print _36"
   ]
  },
  {
   "cell_type": "code",
   "execution_count": 40,
   "metadata": {
    "collapsed": true
   },
   "outputs": [],
   "source": [
    "exec _i36"
   ]
  },
  {
   "cell_type": "markdown",
   "metadata": {},
   "source": [
    "Use %xdel and %reset to allow GC remove old objects"
   ]
  },
  {
   "cell_type": "code",
   "execution_count": 42,
   "metadata": {},
   "outputs": [
    {
     "name": "stdout",
     "output_type": "stream",
     "text": [
      "Activating auto-logging. Current session state plus future input saved.\n",
      "Filename       : ipython_log.py\n",
      "Mode           : rotate\n",
      "Output logging : False\n",
      "Raw input log  : False\n",
      "Timestamping   : False\n",
      "State          : active\n"
     ]
    }
   ],
   "source": [
    "%logstart"
   ]
  },
  {
   "cell_type": "code",
   "execution_count": 43,
   "metadata": {},
   "outputs": [
    {
     "name": "stdout",
     "output_type": "stream",
     "text": [
      "Switching logging OFF\n"
     ]
    }
   ],
   "source": [
    "%logoff"
   ]
  },
  {
   "cell_type": "markdown",
   "metadata": {},
   "source": [
    "__OS__"
   ]
  },
  {
   "cell_type": "code",
   "execution_count": 44,
   "metadata": {},
   "outputs": [
    {
     "name": "stdout",
     "output_type": "stream",
     "text": [
      "# IPython log file\r\n",
      "\r\n",
      "get_ipython().run_cell_magic(u'quickref', u'', u'')\r\n",
      "get_ipython().magic(u'quickref')\r\n",
      "b = [1, 2, 3]\r\n",
      "get_ipython().magic(u'pinfo b')\r\n",
      "b = [1, 2, 3]\r\n",
      "get_ipython().magic(u'pinfo b')\r\n",
      "get_ipython().magic(u'pinfo str.split')\r\n",
      "get_ipython().magic(u'pinfo2 str.split')\r\n"
     ]
    }
   ],
   "source": [
    "! cat ipython_log.py | head"
   ]
  },
  {
   "cell_type": "code",
   "execution_count": 45,
   "metadata": {},
   "outputs": [
    {
     "data": {
      "text/plain": [
       "{'Apple_PubSub_Socket_Render': '/private/tmp/com.apple.launchd.n0Zz34ihUb/Render',\n",
       " 'CLICOLOR': '1',\n",
       " 'COLORFGBG': '7;0',\n",
       " 'COMMAND_MODE': 'unix2003',\n",
       " 'GIT_PAGER': 'cat',\n",
       " 'HOME': '/Users/s.stupnikov',\n",
       " 'IRC_CLIENT': 'irssi',\n",
       " 'ITERM_PROFILE': 's.stupnikov',\n",
       " 'ITERM_SESSION_ID': 'w0t8p3:25E59E5E-E280-4268-A534-8F73D58CAD03',\n",
       " 'JPY_PARENT_PID': '4609',\n",
       " 'LANG': 'ru_RU.UTF-8',\n",
       " 'LOGNAME': 's.stupnikov',\n",
       " 'LSCOLORS': 'GxFxCxDxBxegedabagaced',\n",
       " 'MPLBACKEND': 'module://ipykernel.pylab.backend_inline',\n",
       " 'OLDPWD': '/Users/s.stupnikov/Dropbox/Teaching/Otus/lection3',\n",
       " 'PAGER': 'cat',\n",
       " 'PATH': '/opt/local/bin:/opt/local/sbin:/usr/bin:/bin:/usr/sbin:/sbin:/usr/local/bin',\n",
       " 'PS1': '\\\\[\\\\033[01;32m\\\\]\\\\u@\\\\h\\\\[\\\\033[00m\\\\]:\\\\[\\\\033[01;34m\\\\]\\\\w\\\\[\\\\033[00m\\\\]\\\\$ ',\n",
       " 'PWD': '/Users/s.stupnikov/Dropbox/Teaching/Otus',\n",
       " 'SECURITYSESSIONID': '186a7',\n",
       " 'SHELL': '/bin/bash',\n",
       " 'SHLVL': '1',\n",
       " 'SSH_AUTH_SOCK': '/private/tmp/com.apple.launchd.LW3a7PqFat/Listeners',\n",
       " 'TERM': 'xterm-color',\n",
       " 'TERM_PROGRAM': 'iTerm.app',\n",
       " 'TERM_PROGRAM_VERSION': '3.0.12',\n",
       " 'TERM_SESSION_ID': 'w0t8p3:25E59E5E-E280-4268-A534-8F73D58CAD03',\n",
       " 'TMPDIR': '/var/folders/z_/q84rlcxj553cmpbd9lr1hypw0000gp/T/',\n",
       " 'TODO': 't',\n",
       " 'USER': 's.stupnikov',\n",
       " 'VERSIONER_PYTHON_PREFER_32_BIT': 'no',\n",
       " 'VERSIONER_PYTHON_VERSION': '2.7',\n",
       " 'XPC_FLAGS': '0x0',\n",
       " 'XPC_SERVICE_NAME': '0',\n",
       " '_': '/usr/local/bin/ipython',\n",
       " '__CF_USER_TEXT_ENCODING': '0x1F6:0x7:0x31'}"
      ]
     },
     "execution_count": 45,
     "metadata": {},
     "output_type": "execute_result"
    }
   ],
   "source": [
    "%env"
   ]
  },
  {
   "cell_type": "code",
   "execution_count": 58,
   "metadata": {},
   "outputs": [
    {
     "name": "stdout",
     "output_type": "stream",
     "text": [
      "s.stupnikov      99400   4,3  0,4  2530268  16284   ??  Ss    1:16     0:09.26 /usr/bin/python -m ipykernel -f /Users/s.stupnikov/Library/Jupyter/runtime/kernel-e8dab5b9-6cd5-411a-922b-7e489047caa6.json\n",
      "s.stupnikov       4609   2,5  0,3  2500372  14176 s020  S+   22июл17  26:49.17 /usr/bin/python /usr/local/bin/ipython notebook\n",
      "s.stupnikov      99919   0,0  0,2  2508372   7072   ??  Ss    1:51     0:01.61 /usr/bin/python -m ipykernel -f /Users/s.stupnikov/Library/Jupyter/runtime/kernel-9b0f1145-ec46-4511-b72c-f697bf89ff50.json\n",
      "s.stupnikov      51793   0,0  0,0  2510228    756   ??  Ss   19авг17   0:41.07 /usr/bin/python -m ipykernel -f /Users/s.stupnikov/Library/Jupyter/runtime/kernel-125f5496-7809-401c-a325-e75e28b056f9.json\n",
      "s.stupnikov      42082   0,0  0,0  2508372    668   ??  Ss   11авг17   1:03.12 /usr/bin/python -m ipykernel -f /Users/s.stupnikov/Library/Jupyter/runtime/kernel-0b5c5932-6774-4feb-8726-bc26533221d3.json\n",
      "s.stupnikov      32036   0,0  0,0  2508372    664   ??  Ss   10авг17   1:05.09 /usr/bin/python -m ipykernel -f /Users/s.stupnikov/Library/Jupyter/runtime/kernel-881b6a4f-c5b0-479d-be4c-1f8cd4f93058.json\n",
      "s.stupnikov      31931   0,0  0,0  2509460    668   ??  Ss   10авг17   1:06.24 /usr/bin/python -m ipykernel -f /Users/s.stupnikov/Library/Jupyter/runtime/kernel-eddd9098-23c1-4cff-b227-db6f2b9fcf76.json\n",
      "s.stupnikov      12301   0,0  0,0  2508372    668   ??  Ss    8авг17   1:10.03 /usr/bin/python -m ipykernel -f /Users/s.stupnikov/Library/Jupyter/runtime/kernel-272cca72-b1cb-4192-9ddf-09fc49b61a8a.json\n",
      "s.stupnikov       8992   0,0  0,0  2508372    668   ??  Ss    8авг17   1:11.87 /usr/bin/python -m ipykernel -f /Users/s.stupnikov/Library/Jupyter/runtime/kernel-fa73ce80-360b-441c-b617-7dada5c8e746.json\n",
      "s.stupnikov      57839   0,0  0,0  2509460    668   ??  Ss    3авг17   1:25.53 /usr/bin/python -m ipykernel -f /Users/s.stupnikov/Library/Jupyter/runtime/kernel-69a6708d-4098-4d80-a5c5-657f922cd8cf.json\n"
     ]
    }
   ],
   "source": [
    "py = \"[p]ython\"\n",
    "pyproc = !ps aux | grep $py\n",
    "for p in pyproc:\n",
    "    print p"
   ]
  },
  {
   "cell_type": "code",
   "execution_count": 53,
   "metadata": {},
   "outputs": [
    {
     "name": "stdout",
     "output_type": "stream",
     "text": [
      "Python 2.7.10 (default, Feb  7 2017, 00:08:15) \n",
      "[GCC 4.2.1 Compatible Apple LLVM 8.0.0 (clang-800.0.34)] on darwin\n",
      "Type \"help\", \"copyright\", \"credits\" or \"license\" for more information.\n",
      ">>> \n",
      "\n",
      "Traceback (most recent call last):\n",
      "  File \"/System/Library/Frameworks/Python.framework/Versions/2.7/lib/python2.7/encodings/utf_8.py\", line 15, in decode\n",
      "    def decode(input, errors='strict'):\n",
      "KeyboardInterrupt\n",
      ">>> "
     ]
    }
   ],
   "source": [
    "! python"
   ]
  },
  {
   "cell_type": "code",
   "execution_count": 59,
   "metadata": {
    "collapsed": true
   },
   "outputs": [],
   "source": [
    "%alias ll ls -l"
   ]
  },
  {
   "cell_type": "code",
   "execution_count": 60,
   "metadata": {},
   "outputs": [
    {
     "name": "stdout",
     "output_type": "stream",
     "text": [
      "total 0\r\n",
      "drwxr-xr-x  1066 root  wheel  36244 21 июл 11:40 \u001b[1m\u001b[36mbin\u001b[m\u001b[m\r\n",
      "drwxr-xr-x   261 root  wheel   8874 21 июл 11:38 \u001b[1m\u001b[36minclude\u001b[m\u001b[m\r\n",
      "drwxr-xr-x   304 root  wheel  10336 21 июл 11:40 \u001b[1m\u001b[36mlib\u001b[m\u001b[m\r\n",
      "drwxr-xr-x   210 root  wheel   7140 21 июл 11:40 \u001b[1m\u001b[36mlibexec\u001b[m\u001b[m\r\n",
      "drwxrwxr-x    15 root  wheel    510 21 июл 12:08 \u001b[1m\u001b[36mlocal\u001b[m\u001b[m\r\n",
      "drwxr-xr-x   246 root  wheel   8364 21 июл 11:38 \u001b[1m\u001b[36msbin\u001b[m\u001b[m\r\n",
      "drwxr-xr-x    47 root  wheel   1598 15 дек  2016 \u001b[1m\u001b[36mshare\u001b[m\u001b[m\r\n",
      "drwxr-xr-x     5 root  wheel    170 21 окт  2016 \u001b[1m\u001b[36mstandalone\u001b[m\u001b[m\r\n"
     ]
    }
   ],
   "source": [
    "ll /usr"
   ]
  },
  {
   "cell_type": "code",
   "execution_count": 65,
   "metadata": {
    "collapsed": true
   },
   "outputs": [],
   "source": [
    "%alias test_alias (cd ../lection9; ls; cd -)"
   ]
  },
  {
   "cell_type": "code",
   "execution_count": 66,
   "metadata": {},
   "outputs": [
    {
     "name": "stdout",
     "output_type": "stream",
     "text": [
      "cache.png            hi3.png              layred.png\r\n",
      "client-server.png    hi4.png              lection9_notes.ipynb\r\n",
      "codes.png            hi5.png              methods.png\r\n",
      "custom_methods.png   hi6.png              rest1.png\r\n",
      "hi1.png              hi7.png              rest2.png\r\n",
      "hi2.png              jsprofile.png\r\n",
      "/Users/s.stupnikov/Dropbox/Teaching/Otus/lection10\r\n"
     ]
    }
   ],
   "source": [
    "test_alias"
   ]
  },
  {
   "cell_type": "markdown",
   "metadata": {},
   "source": [
    "__Bookmarks__"
   ]
  },
  {
   "cell_type": "code",
   "execution_count": 2,
   "metadata": {
    "collapsed": true
   },
   "outputs": [],
   "source": [
    "%bookmark otus /Users/s.stupnikov/Dropbox/Teaching/Otus"
   ]
  },
  {
   "cell_type": "code",
   "execution_count": 3,
   "metadata": {},
   "outputs": [
    {
     "name": "stdout",
     "output_type": "stream",
     "text": [
      "(bookmark:otus) -> /Users/s.stupnikov/Dropbox/Teaching/Otus\n",
      "/Users/s.stupnikov/Dropbox/Teaching/Otus\n"
     ]
    }
   ],
   "source": [
    "cd otus"
   ]
  },
  {
   "cell_type": "markdown",
   "metadata": {},
   "source": [
    "__Software Development__"
   ]
  },
  {
   "cell_type": "code",
   "execution_count": 4,
   "metadata": {},
   "outputs": [
    {
     "name": "stdout",
     "output_type": "stream",
     "text": [
      "Breakpoint 1 at /Users/s.stupnikov/Dropbox/Teaching/Otus/lection10/gcd.py:1\n",
      "NOTE: Enter 'c' at the ipdb>  prompt to continue execution.\n",
      "> \u001b[0;32m/Users/s.stupnikov/Dropbox/Teaching/Otus/lection10/gcd.py\u001b[0m(1)\u001b[0;36m<module>\u001b[0;34m()\u001b[0m\n",
      "\u001b[1;31m1\u001b[0;32m---> 1 \u001b[0;31m\u001b[0;32mdef\u001b[0m \u001b[0mgcd\u001b[0m\u001b[0;34m(\u001b[0m\u001b[0ma\u001b[0m\u001b[0;34m,\u001b[0m \u001b[0mb\u001b[0m\u001b[0;34m)\u001b[0m\u001b[0;34m:\u001b[0m\u001b[0;34m\u001b[0m\u001b[0m\n",
      "\u001b[0m\u001b[0;32m      2 \u001b[0;31m    \"\"\"Computes the greatest common divisor of integers a and b using\n",
      "\u001b[0m\u001b[0;32m      3 \u001b[0;31m        \u001b[0mEuclid\u001b[0m\u001b[0;31m'\u001b[0m\u001b[0ms\u001b[0m \u001b[0mAlgorithm\u001b[0m\u001b[0;34m.\u001b[0m\u001b[0;34m\u001b[0m\u001b[0m\n",
      "\u001b[0m\u001b[0;32m      4 \u001b[0;31m    \"\"\"\n",
      "\u001b[0m\u001b[0;32m      5 \u001b[0;31m    \u001b[0;32mwhile\u001b[0m \u001b[0mTrue\u001b[0m\u001b[0;34m:\u001b[0m\u001b[0;34m\u001b[0m\u001b[0m\n",
      "\u001b[0m\n",
      "ipdb> w\n",
      "  \u001b[0;32m/System/Library/Frameworks/Python.framework/Versions/2.7/lib/python2.7/bdb.py\u001b[0m(400)\u001b[0;36mrun\u001b[0;34m()\u001b[0m\n",
      "\u001b[1;32m    398 \u001b[0m            \u001b[0mcmd\u001b[0m \u001b[0;34m=\u001b[0m \u001b[0mcmd\u001b[0m\u001b[0;34m+\u001b[0m\u001b[0;34m'\\n'\u001b[0m\u001b[0;34m\u001b[0m\u001b[0m\n",
      "\u001b[1;32m    399 \u001b[0m        \u001b[0;32mtry\u001b[0m\u001b[0;34m:\u001b[0m\u001b[0;34m\u001b[0m\u001b[0m\n",
      "\u001b[0;32m--> 400 \u001b[0;31m            \u001b[0;32mexec\u001b[0m \u001b[0mcmd\u001b[0m \u001b[0;32min\u001b[0m \u001b[0mglobals\u001b[0m\u001b[0;34m,\u001b[0m \u001b[0mlocals\u001b[0m\u001b[0;34m\u001b[0m\u001b[0m\n",
      "\u001b[0m\u001b[1;32m    401 \u001b[0m        \u001b[0;32mexcept\u001b[0m \u001b[0mBdbQuit\u001b[0m\u001b[0;34m:\u001b[0m\u001b[0;34m\u001b[0m\u001b[0m\n",
      "\u001b[1;32m    402 \u001b[0m            \u001b[0;32mpass\u001b[0m\u001b[0;34m\u001b[0m\u001b[0m\n",
      "\n",
      "  \u001b[0;32m<string>\u001b[0m(1)\u001b[0;36m<module>\u001b[0;34m()\u001b[0m\n",
      "\n",
      "  \u001b[0;32m/Library/Python/2.7/site-packages/IPython/core/interactiveshell.py\u001b[0m(2481)\u001b[0;36msafe_execfile\u001b[0;34m()\u001b[0m\n",
      "\u001b[1;32m   2479 \u001b[0m                py3compat.execfile(\n",
      "\u001b[1;32m   2480 \u001b[0m                    \u001b[0mfname\u001b[0m\u001b[0;34m,\u001b[0m \u001b[0mglob\u001b[0m\u001b[0;34m,\u001b[0m \u001b[0mloc\u001b[0m\u001b[0;34m,\u001b[0m\u001b[0;34m\u001b[0m\u001b[0m\n",
      "\u001b[0;32m-> 2481 \u001b[0;31m                    self.compile if kw['shell_futures'] else None)\n",
      "\u001b[0m\u001b[1;32m   2482 \u001b[0m            \u001b[0;32mexcept\u001b[0m \u001b[0mSystemExit\u001b[0m \u001b[0;32mas\u001b[0m \u001b[0mstatus\u001b[0m\u001b[0;34m:\u001b[0m\u001b[0;34m\u001b[0m\u001b[0m\n",
      "\u001b[1;32m   2483 \u001b[0m                \u001b[0;31m# If the call was made with 0 or None exit status (sys.exit(0)\u001b[0m\u001b[0;34m\u001b[0m\u001b[0;34m\u001b[0m\u001b[0m\n",
      "\n",
      "  \u001b[0;32m/Library/Python/2.7/site-packages/IPython/utils/py3compat.py\u001b[0m(289)\u001b[0;36mexecfile\u001b[0;34m()\u001b[0m\n",
      "\u001b[1;32m    287 \u001b[0m            \u001b[0mwhere\u001b[0m \u001b[0;34m=\u001b[0m \u001b[0;34m[\u001b[0m\u001b[0mns\u001b[0m \u001b[0;32mfor\u001b[0m \u001b[0mns\u001b[0m \u001b[0;32min\u001b[0m \u001b[0;34m[\u001b[0m\u001b[0mglob\u001b[0m\u001b[0;34m,\u001b[0m \u001b[0mloc\u001b[0m\u001b[0;34m]\u001b[0m \u001b[0;32mif\u001b[0m \u001b[0mns\u001b[0m \u001b[0;32mis\u001b[0m \u001b[0;32mnot\u001b[0m \u001b[0mNone\u001b[0m\u001b[0;34m]\u001b[0m\u001b[0;34m\u001b[0m\u001b[0m\n",
      "\u001b[1;32m    288 \u001b[0m            \u001b[0;32mif\u001b[0m \u001b[0mcompiler\u001b[0m \u001b[0;32mis\u001b[0m \u001b[0mNone\u001b[0m\u001b[0;34m:\u001b[0m\u001b[0;34m\u001b[0m\u001b[0m\n",
      "\u001b[0;32m--> 289 \u001b[0;31m                \u001b[0mbuiltin_mod\u001b[0m\u001b[0;34m.\u001b[0m\u001b[0mexecfile\u001b[0m\u001b[0;34m(\u001b[0m\u001b[0mfilename\u001b[0m\u001b[0;34m,\u001b[0m \u001b[0;34m*\u001b[0m\u001b[0mwhere\u001b[0m\u001b[0;34m)\u001b[0m\u001b[0;34m\u001b[0m\u001b[0m\n",
      "\u001b[0m\u001b[1;32m    290 \u001b[0m            \u001b[0;32melse\u001b[0m\u001b[0;34m:\u001b[0m\u001b[0;34m\u001b[0m\u001b[0m\n",
      "\u001b[1;32m    291 \u001b[0m                \u001b[0mscripttext\u001b[0m \u001b[0;34m=\u001b[0m \u001b[0mbuiltin_mod\u001b[0m\u001b[0;34m.\u001b[0m\u001b[0mopen\u001b[0m\u001b[0;34m(\u001b[0m\u001b[0mfname\u001b[0m\u001b[0;34m)\u001b[0m\u001b[0;34m.\u001b[0m\u001b[0mread\u001b[0m\u001b[0;34m(\u001b[0m\u001b[0;34m)\u001b[0m\u001b[0;34m.\u001b[0m\u001b[0mrstrip\u001b[0m\u001b[0;34m(\u001b[0m\u001b[0;34m)\u001b[0m \u001b[0;34m+\u001b[0m \u001b[0;34m'\\n'\u001b[0m\u001b[0;34m\u001b[0m\u001b[0m\n",
      "\n",
      "> \u001b[0;32m/Users/s.stupnikov/Dropbox/Teaching/Otus/lection10/gcd.py\u001b[0m(1)\u001b[0;36m<module>\u001b[0;34m()\u001b[0m\n",
      "\u001b[1;31m1\u001b[0;32m---> 1 \u001b[0;31m\u001b[0;32mdef\u001b[0m \u001b[0mgcd\u001b[0m\u001b[0;34m(\u001b[0m\u001b[0ma\u001b[0m\u001b[0;34m,\u001b[0m \u001b[0mb\u001b[0m\u001b[0;34m)\u001b[0m\u001b[0;34m:\u001b[0m\u001b[0;34m\u001b[0m\u001b[0m\n",
      "\u001b[0m\u001b[0;32m      2 \u001b[0;31m    \"\"\"Computes the greatest common divisor of integers a and b using\n",
      "\u001b[0m\u001b[0;32m      3 \u001b[0;31m        \u001b[0mEuclid\u001b[0m\u001b[0;31m'\u001b[0m\u001b[0ms\u001b[0m \u001b[0mAlgorithm\u001b[0m\u001b[0;34m.\u001b[0m\u001b[0;34m\u001b[0m\u001b[0m\n",
      "\u001b[0m\u001b[0;32m      4 \u001b[0;31m    \"\"\"\n",
      "\u001b[0m\u001b[0;32m      5 \u001b[0;31m    \u001b[0;32mwhile\u001b[0m \u001b[0mTrue\u001b[0m\u001b[0;34m:\u001b[0m\u001b[0;34m\u001b[0m\u001b[0m\n",
      "\u001b[0m\n",
      "ipdb> n\n",
      "> \u001b[0;32m/Users/s.stupnikov/Dropbox/Teaching/Otus/lection10/gcd.py\u001b[0m(10)\u001b[0;36m<module>\u001b[0;34m()\u001b[0m\n",
      "\u001b[0;32m      6 \u001b[0;31m        \u001b[0;32mif\u001b[0m \u001b[0mb\u001b[0m \u001b[0;34m==\u001b[0m \u001b[0;36m0\u001b[0m\u001b[0;34m:\u001b[0m\u001b[0;34m\u001b[0m\u001b[0m\n",
      "\u001b[0m\u001b[0;32m      7 \u001b[0;31m            \u001b[0;32mreturn\u001b[0m \u001b[0ma\u001b[0m\u001b[0;34m\u001b[0m\u001b[0m\n",
      "\u001b[0m\u001b[0;32m      8 \u001b[0;31m        \u001b[0ma\u001b[0m\u001b[0;34m,\u001b[0m \u001b[0mb\u001b[0m \u001b[0;34m=\u001b[0m \u001b[0mb\u001b[0m\u001b[0;34m,\u001b[0m \u001b[0ma\u001b[0m \u001b[0;34m%\u001b[0m \u001b[0mb\u001b[0m\u001b[0;34m\u001b[0m\u001b[0m\n",
      "\u001b[0m\u001b[0;32m      9 \u001b[0;31m\u001b[0;34m\u001b[0m\u001b[0m\n",
      "\u001b[0m\u001b[0;32m---> 10 \u001b[0;31m\u001b[0;32mprint\u001b[0m \u001b[0mgcd\u001b[0m\u001b[0;34m(\u001b[0m\u001b[0;36m23424\u001b[0m\u001b[0;34m,\u001b[0m \u001b[0;36m5654\u001b[0m\u001b[0;34m)\u001b[0m\u001b[0;34m\u001b[0m\u001b[0m\n",
      "\u001b[0m\n",
      "ipdb> b 8\n",
      "Breakpoint 2 at /Users/s.stupnikov/Dropbox/Teaching/Otus/lection10/gcd.py:8\n",
      "ipdb> c\n",
      "> \u001b[0;32m/Users/s.stupnikov/Dropbox/Teaching/Otus/lection10/gcd.py\u001b[0m(8)\u001b[0;36mgcd\u001b[0;34m()\u001b[0m\n",
      "\u001b[0;32m      6 \u001b[0;31m        \u001b[0;32mif\u001b[0m \u001b[0mb\u001b[0m \u001b[0;34m==\u001b[0m \u001b[0;36m0\u001b[0m\u001b[0;34m:\u001b[0m\u001b[0;34m\u001b[0m\u001b[0m\n",
      "\u001b[0m\u001b[0;32m      7 \u001b[0;31m            \u001b[0;32mreturn\u001b[0m \u001b[0ma\u001b[0m\u001b[0;34m\u001b[0m\u001b[0m\n",
      "\u001b[0m\u001b[1;31m2\u001b[0;32m---> 8 \u001b[0;31m        \u001b[0ma\u001b[0m\u001b[0;34m,\u001b[0m \u001b[0mb\u001b[0m \u001b[0;34m=\u001b[0m \u001b[0mb\u001b[0m\u001b[0;34m,\u001b[0m \u001b[0ma\u001b[0m \u001b[0;34m%\u001b[0m \u001b[0mb\u001b[0m\u001b[0;34m\u001b[0m\u001b[0m\n",
      "\u001b[0m\u001b[0;32m      9 \u001b[0;31m\u001b[0;34m\u001b[0m\u001b[0m\n",
      "\u001b[0m\u001b[0;32m     10 \u001b[0;31m\u001b[0;32mprint\u001b[0m \u001b[0mgcd\u001b[0m\u001b[0;34m(\u001b[0m\u001b[0;36m23424\u001b[0m\u001b[0;34m,\u001b[0m \u001b[0;36m5654\u001b[0m\u001b[0;34m)\u001b[0m\u001b[0;34m\u001b[0m\u001b[0m\n",
      "\u001b[0m\n",
      "ipdb> !a, b\n",
      "(23424, 5654)\n",
      "ipdb> c\n",
      "> \u001b[0;32m/Users/s.stupnikov/Dropbox/Teaching/Otus/lection10/gcd.py\u001b[0m(8)\u001b[0;36mgcd\u001b[0;34m()\u001b[0m\n",
      "\u001b[0;32m      6 \u001b[0;31m        \u001b[0;32mif\u001b[0m \u001b[0mb\u001b[0m \u001b[0;34m==\u001b[0m \u001b[0;36m0\u001b[0m\u001b[0;34m:\u001b[0m\u001b[0;34m\u001b[0m\u001b[0m\n",
      "\u001b[0m\u001b[0;32m      7 \u001b[0;31m            \u001b[0;32mreturn\u001b[0m \u001b[0ma\u001b[0m\u001b[0;34m\u001b[0m\u001b[0m\n",
      "\u001b[0m\u001b[1;31m2\u001b[0;32m---> 8 \u001b[0;31m        \u001b[0ma\u001b[0m\u001b[0;34m,\u001b[0m \u001b[0mb\u001b[0m \u001b[0;34m=\u001b[0m \u001b[0mb\u001b[0m\u001b[0;34m,\u001b[0m \u001b[0ma\u001b[0m \u001b[0;34m%\u001b[0m \u001b[0mb\u001b[0m\u001b[0;34m\u001b[0m\u001b[0m\n",
      "\u001b[0m\u001b[0;32m      9 \u001b[0;31m\u001b[0;34m\u001b[0m\u001b[0m\n",
      "\u001b[0m\u001b[0;32m     10 \u001b[0;31m\u001b[0;32mprint\u001b[0m \u001b[0mgcd\u001b[0m\u001b[0;34m(\u001b[0m\u001b[0;36m23424\u001b[0m\u001b[0;34m,\u001b[0m \u001b[0;36m5654\u001b[0m\u001b[0;34m)\u001b[0m\u001b[0;34m\u001b[0m\u001b[0m\n",
      "\u001b[0m\n",
      "ipdb> !a, b\n",
      "(5654, 808)\n",
      "ipdb> c\n",
      "> \u001b[0;32m/Users/s.stupnikov/Dropbox/Teaching/Otus/lection10/gcd.py\u001b[0m(8)\u001b[0;36mgcd\u001b[0;34m()\u001b[0m\n",
      "\u001b[0;32m      6 \u001b[0;31m        \u001b[0;32mif\u001b[0m \u001b[0mb\u001b[0m \u001b[0;34m==\u001b[0m \u001b[0;36m0\u001b[0m\u001b[0;34m:\u001b[0m\u001b[0;34m\u001b[0m\u001b[0m\n",
      "\u001b[0m\u001b[0;32m      7 \u001b[0;31m            \u001b[0;32mreturn\u001b[0m \u001b[0ma\u001b[0m\u001b[0;34m\u001b[0m\u001b[0m\n",
      "\u001b[0m\u001b[1;31m2\u001b[0;32m---> 8 \u001b[0;31m        \u001b[0ma\u001b[0m\u001b[0;34m,\u001b[0m \u001b[0mb\u001b[0m \u001b[0;34m=\u001b[0m \u001b[0mb\u001b[0m\u001b[0;34m,\u001b[0m \u001b[0ma\u001b[0m \u001b[0;34m%\u001b[0m \u001b[0mb\u001b[0m\u001b[0;34m\u001b[0m\u001b[0m\n",
      "\u001b[0m\u001b[0;32m      9 \u001b[0;31m\u001b[0;34m\u001b[0m\u001b[0m\n",
      "\u001b[0m\u001b[0;32m     10 \u001b[0;31m\u001b[0;32mprint\u001b[0m \u001b[0mgcd\u001b[0m\u001b[0;34m(\u001b[0m\u001b[0;36m23424\u001b[0m\u001b[0;34m,\u001b[0m \u001b[0;36m5654\u001b[0m\u001b[0;34m)\u001b[0m\u001b[0;34m\u001b[0m\u001b[0m\n",
      "\u001b[0m\n",
      "ipdb> l\n",
      "\u001b[1;32m      3 \u001b[0m        \u001b[0mEuclid\u001b[0m\u001b[0;31m'\u001b[0m\u001b[0ms\u001b[0m \u001b[0mAlgorithm\u001b[0m\u001b[0;34m.\u001b[0m\u001b[0;34m\u001b[0m\u001b[0m\n",
      "\u001b[1;32m      4 \u001b[0m    \"\"\"\n",
      "\u001b[1;32m      5 \u001b[0m    \u001b[0;32mwhile\u001b[0m \u001b[0mTrue\u001b[0m\u001b[0;34m:\u001b[0m\u001b[0;34m\u001b[0m\u001b[0m\n",
      "\u001b[1;32m      6 \u001b[0m        \u001b[0;32mif\u001b[0m \u001b[0mb\u001b[0m \u001b[0;34m==\u001b[0m \u001b[0;36m0\u001b[0m\u001b[0;34m:\u001b[0m\u001b[0;34m\u001b[0m\u001b[0m\n",
      "\u001b[1;32m      7 \u001b[0m            \u001b[0;32mreturn\u001b[0m \u001b[0ma\u001b[0m\u001b[0;34m\u001b[0m\u001b[0m\n",
      "\u001b[1;31m2\u001b[0;32m---> 8 \u001b[0;31m        \u001b[0ma\u001b[0m\u001b[0;34m,\u001b[0m \u001b[0mb\u001b[0m \u001b[0;34m=\u001b[0m \u001b[0mb\u001b[0m\u001b[0;34m,\u001b[0m \u001b[0ma\u001b[0m \u001b[0;34m%\u001b[0m \u001b[0mb\u001b[0m\u001b[0;34m\u001b[0m\u001b[0m\n",
      "\u001b[0m\u001b[1;32m      9 \u001b[0m\u001b[0;34m\u001b[0m\u001b[0m\n",
      "\u001b[1;32m     10 \u001b[0m\u001b[0;32mprint\u001b[0m \u001b[0mgcd\u001b[0m\u001b[0;34m(\u001b[0m\u001b[0;36m23424\u001b[0m\u001b[0;34m,\u001b[0m \u001b[0;36m5654\u001b[0m\u001b[0;34m)\u001b[0m\u001b[0;34m\u001b[0m\u001b[0m\n",
      "\n",
      "ipdb> q\n",
      "2\n"
     ]
    }
   ],
   "source": [
    "%run -d lection10/gcd.py"
   ]
  },
  {
   "cell_type": "code",
   "execution_count": 8,
   "metadata": {
    "collapsed": true
   },
   "outputs": [],
   "source": [
    "import sys\n",
    "def set_trace():\n",
    "    from IPython.core.debugger import Pdb\n",
    "    Pdb(color_scheme='Linux').set_trace(sys._getframe().f_back)\n",
    "\n",
    "def debug(f, *args, **kwargs):\n",
    "    from IPython.core.debugger import Pdb\n",
    "    pdb = Pdb(color_scheme='Linux')\n",
    "    return pdb.runcall(f, *args, **kwargs)"
   ]
  },
  {
   "cell_type": "code",
   "execution_count": 9,
   "metadata": {
    "collapsed": true
   },
   "outputs": [],
   "source": [
    "def binary_search(array, query):\n",
    "    lo, hi = 0, len(array) - 1\n",
    "    while lo <= hi:\n",
    "        mid = lo + (hi - lo) // 2\n",
    "        val = array[mid]\n",
    "        set_trace()\n",
    "        if val == query:\n",
    "            return mid\n",
    "        elif val < query:\n",
    "            lo = mid + 1\n",
    "        else:\n",
    "            hi = mid - 1\n",
    "    return None"
   ]
  },
  {
   "cell_type": "code",
   "execution_count": 12,
   "metadata": {},
   "outputs": [
    {
     "name": "stdout",
     "output_type": "stream",
     "text": [
      "> \u001b[1;32m<ipython-input-9-1679a2a213d0>\u001b[0m(7)\u001b[0;36mbinary_search\u001b[1;34m()\u001b[0m\n",
      "\u001b[1;32m      5 \u001b[1;33m        \u001b[0mval\u001b[0m \u001b[1;33m=\u001b[0m \u001b[0marray\u001b[0m\u001b[1;33m[\u001b[0m\u001b[0mmid\u001b[0m\u001b[1;33m]\u001b[0m\u001b[1;33m\u001b[0m\u001b[0m\n",
      "\u001b[0m\u001b[1;32m      6 \u001b[1;33m        \u001b[0mset_trace\u001b[0m\u001b[1;33m(\u001b[0m\u001b[1;33m)\u001b[0m\u001b[1;33m\u001b[0m\u001b[0m\n",
      "\u001b[0m\u001b[1;32m----> 7 \u001b[1;33m        \u001b[1;32mif\u001b[0m \u001b[0mval\u001b[0m \u001b[1;33m==\u001b[0m \u001b[0mquery\u001b[0m\u001b[1;33m:\u001b[0m\u001b[1;33m\u001b[0m\u001b[0m\n",
      "\u001b[0m\u001b[1;32m      8 \u001b[1;33m            \u001b[1;32mreturn\u001b[0m \u001b[0mmid\u001b[0m\u001b[1;33m\u001b[0m\u001b[0m\n",
      "\u001b[0m\u001b[1;32m      9 \u001b[1;33m        \u001b[1;32melif\u001b[0m \u001b[0mval\u001b[0m \u001b[1;33m<\u001b[0m \u001b[0mquery\u001b[0m\u001b[1;33m:\u001b[0m\u001b[1;33m\u001b[0m\u001b[0m\n",
      "\u001b[0m\n",
      "ipdb> !val, mid\n",
      "(100, 2)\n",
      "ipdb> c\n",
      "> \u001b[1;32m<ipython-input-9-1679a2a213d0>\u001b[0m(6)\u001b[0;36mbinary_search\u001b[1;34m()\u001b[0m\n",
      "\u001b[1;32m      4 \u001b[1;33m        \u001b[0mmid\u001b[0m \u001b[1;33m=\u001b[0m \u001b[0mlo\u001b[0m \u001b[1;33m+\u001b[0m \u001b[1;33m(\u001b[0m\u001b[0mhi\u001b[0m \u001b[1;33m-\u001b[0m \u001b[0mlo\u001b[0m\u001b[1;33m)\u001b[0m \u001b[1;33m//\u001b[0m \u001b[1;36m2\u001b[0m\u001b[1;33m\u001b[0m\u001b[0m\n",
      "\u001b[0m\u001b[1;32m      5 \u001b[1;33m        \u001b[0mval\u001b[0m \u001b[1;33m=\u001b[0m \u001b[0marray\u001b[0m\u001b[1;33m[\u001b[0m\u001b[0mmid\u001b[0m\u001b[1;33m]\u001b[0m\u001b[1;33m\u001b[0m\u001b[0m\n",
      "\u001b[0m\u001b[1;32m----> 6 \u001b[1;33m        \u001b[0mset_trace\u001b[0m\u001b[1;33m(\u001b[0m\u001b[1;33m)\u001b[0m\u001b[1;33m\u001b[0m\u001b[0m\n",
      "\u001b[0m\u001b[1;32m      7 \u001b[1;33m        \u001b[1;32mif\u001b[0m \u001b[0mval\u001b[0m \u001b[1;33m==\u001b[0m \u001b[0mquery\u001b[0m\u001b[1;33m:\u001b[0m\u001b[1;33m\u001b[0m\u001b[0m\n",
      "\u001b[0m\u001b[1;32m      8 \u001b[1;33m            \u001b[1;32mreturn\u001b[0m \u001b[0mmid\u001b[0m\u001b[1;33m\u001b[0m\u001b[0m\n",
      "\u001b[0m\n",
      "ipdb> !val, mid\n",
      "(949, 3)\n",
      "ipdb> q\n",
      "> \u001b[1;32m<ipython-input-9-1679a2a213d0>\u001b[0m(7)\u001b[0;36mbinary_search\u001b[1;34m()\u001b[0m\n",
      "\u001b[1;32m      5 \u001b[1;33m        \u001b[0mval\u001b[0m \u001b[1;33m=\u001b[0m \u001b[0marray\u001b[0m\u001b[1;33m[\u001b[0m\u001b[0mmid\u001b[0m\u001b[1;33m]\u001b[0m\u001b[1;33m\u001b[0m\u001b[0m\n",
      "\u001b[0m\u001b[1;32m      6 \u001b[1;33m        \u001b[0mset_trace\u001b[0m\u001b[1;33m(\u001b[0m\u001b[1;33m)\u001b[0m\u001b[1;33m\u001b[0m\u001b[0m\n",
      "\u001b[0m\u001b[1;32m----> 7 \u001b[1;33m        \u001b[1;32mif\u001b[0m \u001b[0mval\u001b[0m \u001b[1;33m==\u001b[0m \u001b[0mquery\u001b[0m\u001b[1;33m:\u001b[0m\u001b[1;33m\u001b[0m\u001b[0m\n",
      "\u001b[0m\u001b[1;32m      8 \u001b[1;33m            \u001b[1;32mreturn\u001b[0m \u001b[0mmid\u001b[0m\u001b[1;33m\u001b[0m\u001b[0m\n",
      "\u001b[0m\u001b[1;32m      9 \u001b[1;33m        \u001b[1;32melif\u001b[0m \u001b[0mval\u001b[0m \u001b[1;33m<\u001b[0m \u001b[0mquery\u001b[0m\u001b[1;33m:\u001b[0m\u001b[1;33m\u001b[0m\u001b[0m\n",
      "\u001b[0m\n",
      "ipdb> q\n"
     ]
    }
   ],
   "source": [
    "binary_search([3, 5, 100, 949, 950], 1000)"
   ]
  },
  {
   "cell_type": "code",
   "execution_count": 13,
   "metadata": {},
   "outputs": [
    {
     "name": "stdout",
     "output_type": "stream",
     "text": [
      "> \u001b[1;32m<ipython-input-9-1679a2a213d0>\u001b[0m(2)\u001b[0;36mbinary_search\u001b[1;34m()\u001b[0m\n",
      "\u001b[1;32m      1 \u001b[1;33m\u001b[1;32mdef\u001b[0m \u001b[0mbinary_search\u001b[0m\u001b[1;33m(\u001b[0m\u001b[0marray\u001b[0m\u001b[1;33m,\u001b[0m \u001b[0mquery\u001b[0m\u001b[1;33m)\u001b[0m\u001b[1;33m:\u001b[0m\u001b[1;33m\u001b[0m\u001b[0m\n",
      "\u001b[0m\u001b[1;32m----> 2 \u001b[1;33m    \u001b[0mlo\u001b[0m\u001b[1;33m,\u001b[0m \u001b[0mhi\u001b[0m \u001b[1;33m=\u001b[0m \u001b[1;36m0\u001b[0m\u001b[1;33m,\u001b[0m \u001b[0mlen\u001b[0m\u001b[1;33m(\u001b[0m\u001b[0marray\u001b[0m\u001b[1;33m)\u001b[0m \u001b[1;33m-\u001b[0m \u001b[1;36m1\u001b[0m\u001b[1;33m\u001b[0m\u001b[0m\n",
      "\u001b[0m\u001b[1;32m      3 \u001b[1;33m    \u001b[1;32mwhile\u001b[0m \u001b[0mlo\u001b[0m \u001b[1;33m<=\u001b[0m \u001b[0mhi\u001b[0m\u001b[1;33m:\u001b[0m\u001b[1;33m\u001b[0m\u001b[0m\n",
      "\u001b[0m\u001b[1;32m      4 \u001b[1;33m        \u001b[0mmid\u001b[0m \u001b[1;33m=\u001b[0m \u001b[0mlo\u001b[0m \u001b[1;33m+\u001b[0m \u001b[1;33m(\u001b[0m\u001b[0mhi\u001b[0m \u001b[1;33m-\u001b[0m \u001b[0mlo\u001b[0m\u001b[1;33m)\u001b[0m \u001b[1;33m//\u001b[0m \u001b[1;36m2\u001b[0m\u001b[1;33m\u001b[0m\u001b[0m\n",
      "\u001b[0m\u001b[1;32m      5 \u001b[1;33m        \u001b[0mval\u001b[0m \u001b[1;33m=\u001b[0m \u001b[0marray\u001b[0m\u001b[1;33m[\u001b[0m\u001b[0mmid\u001b[0m\u001b[1;33m]\u001b[0m\u001b[1;33m\u001b[0m\u001b[0m\n",
      "\u001b[0m\n",
      "ipdb> q\n",
      "> \u001b[1;32m<ipython-input-9-1679a2a213d0>\u001b[0m(7)\u001b[0;36mbinary_search\u001b[1;34m()\u001b[0m\n",
      "\u001b[1;32m      5 \u001b[1;33m        \u001b[0mval\u001b[0m \u001b[1;33m=\u001b[0m \u001b[0marray\u001b[0m\u001b[1;33m[\u001b[0m\u001b[0mmid\u001b[0m\u001b[1;33m]\u001b[0m\u001b[1;33m\u001b[0m\u001b[0m\n",
      "\u001b[0m\u001b[1;32m      6 \u001b[1;33m        \u001b[0mset_trace\u001b[0m\u001b[1;33m(\u001b[0m\u001b[1;33m)\u001b[0m\u001b[1;33m\u001b[0m\u001b[0m\n",
      "\u001b[0m\u001b[1;32m----> 7 \u001b[1;33m        \u001b[1;32mif\u001b[0m \u001b[0mval\u001b[0m \u001b[1;33m==\u001b[0m \u001b[0mquery\u001b[0m\u001b[1;33m:\u001b[0m\u001b[1;33m\u001b[0m\u001b[0m\n",
      "\u001b[0m\u001b[1;32m      8 \u001b[1;33m            \u001b[1;32mreturn\u001b[0m \u001b[0mmid\u001b[0m\u001b[1;33m\u001b[0m\u001b[0m\n",
      "\u001b[0m\u001b[1;32m      9 \u001b[1;33m        \u001b[1;32melif\u001b[0m \u001b[0mval\u001b[0m \u001b[1;33m<\u001b[0m \u001b[0mquery\u001b[0m\u001b[1;33m:\u001b[0m\u001b[1;33m\u001b[0m\u001b[0m\n",
      "\u001b[0m\n",
      "ipdb> q\n",
      "> \u001b[1;32m<ipython-input-9-1679a2a213d0>\u001b[0m(6)\u001b[0;36mbinary_search\u001b[1;34m()\u001b[0m\n",
      "\u001b[1;32m      4 \u001b[1;33m        \u001b[0mmid\u001b[0m \u001b[1;33m=\u001b[0m \u001b[0mlo\u001b[0m \u001b[1;33m+\u001b[0m \u001b[1;33m(\u001b[0m\u001b[0mhi\u001b[0m \u001b[1;33m-\u001b[0m \u001b[0mlo\u001b[0m\u001b[1;33m)\u001b[0m \u001b[1;33m//\u001b[0m \u001b[1;36m2\u001b[0m\u001b[1;33m\u001b[0m\u001b[0m\n",
      "\u001b[0m\u001b[1;32m      5 \u001b[1;33m        \u001b[0mval\u001b[0m \u001b[1;33m=\u001b[0m \u001b[0marray\u001b[0m\u001b[1;33m[\u001b[0m\u001b[0mmid\u001b[0m\u001b[1;33m]\u001b[0m\u001b[1;33m\u001b[0m\u001b[0m\n",
      "\u001b[0m\u001b[1;32m----> 6 \u001b[1;33m        \u001b[0mset_trace\u001b[0m\u001b[1;33m(\u001b[0m\u001b[1;33m)\u001b[0m\u001b[1;33m\u001b[0m\u001b[0m\n",
      "\u001b[0m\u001b[1;32m      7 \u001b[1;33m        \u001b[1;32mif\u001b[0m \u001b[0mval\u001b[0m \u001b[1;33m==\u001b[0m \u001b[0mquery\u001b[0m\u001b[1;33m:\u001b[0m\u001b[1;33m\u001b[0m\u001b[0m\n",
      "\u001b[0m\u001b[1;32m      8 \u001b[1;33m            \u001b[1;32mreturn\u001b[0m \u001b[0mmid\u001b[0m\u001b[1;33m\u001b[0m\u001b[0m\n",
      "\u001b[0m\n",
      "ipdb> q\n"
     ]
    },
    {
     "data": {
      "text/plain": [
       "3"
      ]
     },
     "execution_count": 13,
     "metadata": {},
     "output_type": "execute_result"
    }
   ],
   "source": [
    "debug(binary_search, [1,2,3,4,5], 4)"
   ]
  },
  {
   "cell_type": "code",
   "execution_count": 20,
   "metadata": {
    "collapsed": true
   },
   "outputs": [],
   "source": [
    "strings = ['foo', 'foobar', 'baz', 'qux', 'python', 'Guido Van Rossum'] * 10000"
   ]
  },
  {
   "cell_type": "code",
   "execution_count": 21,
   "metadata": {},
   "outputs": [
    {
     "name": "stdout",
     "output_type": "stream",
     "text": [
      "CPU times: user 34.6 ms, sys: 11.1 ms, total: 45.6 ms\n",
      "Wall time: 47.6 ms\n"
     ]
    }
   ],
   "source": [
    "%time method1 = [x for x in strings if x.startswith('foo')]"
   ]
  },
  {
   "cell_type": "code",
   "execution_count": 22,
   "metadata": {},
   "outputs": [
    {
     "name": "stdout",
     "output_type": "stream",
     "text": [
      "CPU times: user 20.9 ms, sys: 11.3 ms, total: 32.2 ms\n",
      "Wall time: 33.9 ms\n"
     ]
    }
   ],
   "source": [
    "%time method2 = [x for x in strings if x[:3] == 'foo']"
   ]
  },
  {
   "cell_type": "code",
   "execution_count": 23,
   "metadata": {},
   "outputs": [
    {
     "name": "stdout",
     "output_type": "stream",
     "text": [
      "10 loops, best of 3: 17.6 ms per loop\n"
     ]
    }
   ],
   "source": [
    "%timeit [x for x in strings if x.startswith('foo')]"
   ]
  },
  {
   "cell_type": "code",
   "execution_count": 24,
   "metadata": {},
   "outputs": [
    {
     "name": "stdout",
     "output_type": "stream",
     "text": [
      "100 loops, best of 3: 6.4 ms per loop\n"
     ]
    }
   ],
   "source": [
    "%timeit [x for x in strings if x[:3] == 'foo']"
   ]
  },
  {
   "cell_type": "markdown",
   "metadata": {},
   "source": [
    "### References"
   ]
  },
  {
   "cell_type": "markdown",
   "metadata": {},
   "source": [
    "* https://damontallen.github.io/IPython-quick-ref-sheets/\n",
    "* https://lwn.net/SubscriberLink/756192/ebada7ecad32f3ad/"
   ]
  },
  {
   "cell_type": "markdown",
   "metadata": {},
   "source": [
    "### Summary"
   ]
  },
  {
   "cell_type": "markdown",
   "metadata": {},
   "source": [
    "* make IPython part of your development process"
   ]
  },
  {
   "cell_type": "markdown",
   "metadata": {},
   "source": [
    "## Numpy"
   ]
  },
  {
   "cell_type": "markdown",
   "metadata": {},
   "source": [
    "Features\n",
    "* ndarray, a fast and space-efficient multidimensional array providing vectorized arithmetic operations and  broadcasting capabilities\n",
    "* Standard mathematical functions for fast operations on entire arrays of data without having to write loops\n",
    "* Tools for reading / writing array data to disk and working with memory-mapped files\n",
    "* Linear algebra, random number generation, and Fourier transform capabilities\n",
    "* Tools for integrating code written in C, C++, and Fortran"
   ]
  },
  {
   "cell_type": "code",
   "execution_count": 2,
   "metadata": {},
   "outputs": [],
   "source": [
    "import numpy as np"
   ]
  },
  {
   "cell_type": "markdown",
   "metadata": {},
   "source": [
    "#### ndarray"
   ]
  },
  {
   "cell_type": "markdown",
   "metadata": {},
   "source": [
    "ndarray is a generic multidimensional container for homogeneous data\n",
    "\n",
    "__Why it is useful__: Memory-efficient container that provides fast numerical operations."
   ]
  },
  {
   "cell_type": "code",
   "execution_count": 38,
   "metadata": {},
   "outputs": [
    {
     "name": "stdout",
     "output_type": "stream",
     "text": [
      "10000 loops, best of 3: 102 µs per loop\n"
     ]
    }
   ],
   "source": [
    "L = range(1000)\n",
    "%timeit [i**2 for i in L]"
   ]
  },
  {
   "cell_type": "code",
   "execution_count": 39,
   "metadata": {},
   "outputs": [
    {
     "name": "stdout",
     "output_type": "stream",
     "text": [
      "The slowest run took 53.87 times longer than the fastest. This could mean that an intermediate result is being cached.\n",
      "1000000 loops, best of 3: 1.69 µs per loop\n"
     ]
    }
   ],
   "source": [
    "a = np.arange(1000)\n",
    "%timeit a**2"
   ]
  },
  {
   "cell_type": "markdown",
   "metadata": {},
   "source": [
    "![arr](https://docs.scipy.org/doc/numpy-1.13.0/_images/threefundamental.png)"
   ]
  },
  {
   "cell_type": "markdown",
   "metadata": {},
   "source": [
    "![arr3](http://pages.physics.cornell.edu/~myers/teaching/ComputationalMethods/python/anatomyarray.png)"
   ]
  },
  {
   "cell_type": "code",
   "execution_count": 29,
   "metadata": {},
   "outputs": [
    {
     "name": "stdout",
     "output_type": "stream",
     "text": [
      "[ 6.   7.5  8.   0.   1. ]\n",
      "[[1 2 3 4]\n",
      " [5 6 7 8]]\n"
     ]
    }
   ],
   "source": [
    "print np.array([6, 7.5, 8, 0, 1])\n",
    "arr = np.array([[1, 2, 3, 4], [5, 6, 7, 8]])\n",
    "print arr"
   ]
  },
  {
   "cell_type": "code",
   "execution_count": 40,
   "metadata": {},
   "outputs": [
    {
     "name": "stdout",
     "output_type": "stream",
     "text": [
      "2 2 (2, 4) int64\n"
     ]
    }
   ],
   "source": [
    "print len(arr), arr.ndim, arr.shape, arr.dtype"
   ]
  },
  {
   "cell_type": "code",
   "execution_count": 35,
   "metadata": {},
   "outputs": [
    {
     "data": {
      "text/plain": [
       "array([ 0.,  0.,  0.,  0.,  0.,  0.,  0.,  0.,  0.,  0.])"
      ]
     },
     "execution_count": 35,
     "metadata": {},
     "output_type": "execute_result"
    }
   ],
   "source": [
    "np.zeros(10)"
   ]
  },
  {
   "cell_type": "code",
   "execution_count": 36,
   "metadata": {},
   "outputs": [
    {
     "data": {
      "text/plain": [
       "array([[[ -1.28822975e-231,  -1.29074499e-231],\n",
       "        [  2.24892181e-314,   2.24559126e-314],\n",
       "        [  2.24576933e-314,   2.24897990e-314]],\n",
       "\n",
       "       [[  2.24528805e-314,   0.00000000e+000],\n",
       "        [  2.24207087e-314,   2.24528815e-314],\n",
       "        [ -1.28822975e-231,   8.34402697e-309]]])"
      ]
     },
     "execution_count": 36,
     "metadata": {},
     "output_type": "execute_result"
    }
   ],
   "source": [
    "np.empty((2, 3, 2))"
   ]
  },
  {
   "cell_type": "code",
   "execution_count": 37,
   "metadata": {},
   "outputs": [
    {
     "data": {
      "text/plain": [
       "array([ 0,  1,  2,  3,  4,  5,  6,  7,  8,  9, 10, 11, 12, 13, 14])"
      ]
     },
     "execution_count": 37,
     "metadata": {},
     "output_type": "execute_result"
    }
   ],
   "source": [
    "np.arange(15)"
   ]
  },
  {
   "cell_type": "markdown",
   "metadata": {},
   "source": [
    "Custom type and casting"
   ]
  },
  {
   "cell_type": "code",
   "execution_count": 43,
   "metadata": {},
   "outputs": [
    {
     "name": "stdout",
     "output_type": "stream",
     "text": [
      "uint32 float64\n"
     ]
    }
   ],
   "source": [
    "ints = np.array([1, 2, 3], dtype=np.uint32)\n",
    "floats = np.asarray(ints, dtype=np.float64)\n",
    "print ints.dtype, floats.dtype"
   ]
  },
  {
   "cell_type": "code",
   "execution_count": 56,
   "metadata": {},
   "outputs": [
    {
     "name": "stdout",
     "output_type": "stream",
     "text": [
      "array([  3.70000005,  -1.20000005,  -2.5999999 ,   0.5       ,\n",
      "        12.89999962,   0.        ], dtype=float32)\n",
      "array([ True,  True,  True,  True,  True, False], dtype=bool)\n"
     ]
    }
   ],
   "source": [
    "a = np.array([3.7, -1.2, -2.6, 0.5, 12.9, 0.0])\n",
    "print repr(a.astype(\"f4\")) # by default, astype always returns a newly allocated array\n",
    "print repr(a.astype(\"?\"))"
   ]
  },
  {
   "cell_type": "markdown",
   "metadata": {},
   "source": [
    "#### Vectorization"
   ]
  },
  {
   "cell_type": "markdown",
   "metadata": {},
   "source": [
    "Vectorized operations in NumPy are implemented in C, resulting in a significant speed improvement."
   ]
  },
  {
   "cell_type": "code",
   "execution_count": 59,
   "metadata": {},
   "outputs": [
    {
     "name": "stdout",
     "output_type": "stream",
     "text": [
      "[[ 1.  2.  3.]\n",
      " [ 4.  5.  6.]]\n"
     ]
    }
   ],
   "source": [
    "arr = np.array([[1., 2., 3.], [4., 5., 6.]])\n",
    "print arr"
   ]
  },
  {
   "cell_type": "code",
   "execution_count": 58,
   "metadata": {},
   "outputs": [
    {
     "data": {
      "text/plain": [
       "array([[  1.,   4.,   9.],\n",
       "       [ 16.,  25.,  36.]])"
      ]
     },
     "execution_count": 58,
     "metadata": {},
     "output_type": "execute_result"
    }
   ],
   "source": [
    "arr * arr"
   ]
  },
  {
   "cell_type": "code",
   "execution_count": 61,
   "metadata": {},
   "outputs": [
    {
     "data": {
      "text/plain": [
       "array([[ 1.        ,  0.5       ,  0.33333333],\n",
       "       [ 0.25      ,  0.2       ,  0.16666667]])"
      ]
     },
     "execution_count": 61,
     "metadata": {},
     "output_type": "execute_result"
    }
   ],
   "source": [
    "1 / arr"
   ]
  },
  {
   "cell_type": "markdown",
   "metadata": {},
   "source": [
    "#### Indexing"
   ]
  },
  {
   "cell_type": "code",
   "execution_count": 63,
   "metadata": {},
   "outputs": [
    {
     "name": "stdout",
     "output_type": "stream",
     "text": [
      "0 2 9\n",
      "[5 6 7] [9 8 7 6 5 4 3 2 1 0]\n"
     ]
    }
   ],
   "source": [
    "a = np.arange(10)\n",
    "print a[0], a[2], a[-1]\n",
    "print a[5:8], a[::-1]"
   ]
  },
  {
   "cell_type": "markdown",
   "metadata": {},
   "source": [
    "![2d](https://www.safaribooksonline.com/library/view/python-for-data/9781449323592/httpatomoreillycomsourceoreillyimages1346880.png)"
   ]
  },
  {
   "cell_type": "markdown",
   "metadata": {},
   "source": [
    "In 2D, the first dimension corresponds to rows, the second to columns."
   ]
  },
  {
   "cell_type": "code",
   "execution_count": 64,
   "metadata": {},
   "outputs": [
    {
     "name": "stdout",
     "output_type": "stream",
     "text": [
      "[[0 0 0]\n",
      " [0 1 0]\n",
      " [0 0 2]]\n"
     ]
    }
   ],
   "source": [
    "a = np.diag(np.arange(3))\n",
    "print a"
   ]
  },
  {
   "cell_type": "code",
   "execution_count": 75,
   "metadata": {},
   "outputs": [
    {
     "name": "stdout",
     "output_type": "stream",
     "text": [
      "[0 0 0] 1 [0 0 0]\n"
     ]
    }
   ],
   "source": [
    "print a[0], a[1, 1], a[:,0]"
   ]
  },
  {
   "cell_type": "markdown",
   "metadata": {},
   "source": [
    "![2dslice](https://www.safaribooksonline.com/library/view/python-for-data/9781449323592/httpatomoreillycomsourceoreillyimages1346882.png)"
   ]
  },
  {
   "cell_type": "markdown",
   "metadata": {},
   "source": [
    "![idx](http://www.scipy-lectures.org/_images/numpy_indexing.png)"
   ]
  },
  {
   "cell_type": "code",
   "execution_count": 76,
   "metadata": {},
   "outputs": [
    {
     "name": "stdout",
     "output_type": "stream",
     "text": [
      "[0 1 2 3 4 4 3 2 1 0]\n"
     ]
    }
   ],
   "source": [
    "a = np.arange(10)\n",
    "b = np.arange(5)\n",
    "a[5:] = b[::-1]\n",
    "print a"
   ]
  },
  {
   "cell_type": "code",
   "execution_count": 77,
   "metadata": {},
   "outputs": [
    {
     "name": "stdout",
     "output_type": "stream",
     "text": [
      "[ 0  1  2  3  4 12 12 12  1  0]\n"
     ]
    }
   ],
   "source": [
    "a[5:8] = 12\n",
    "print a"
   ]
  },
  {
   "cell_type": "markdown",
   "metadata": {},
   "source": [
    "Distinction from lists is that array slices are views on the original array. This means that the data is not copied, and any modifications to the view will be reflected in the source array"
   ]
  },
  {
   "cell_type": "code",
   "execution_count": 90,
   "metadata": {},
   "outputs": [
    {
     "name": "stdout",
     "output_type": "stream",
     "text": [
      "[   12 12345    12] [    0     1     2     3     4    12 12345    12     1     0]\n",
      "True\n",
      "[12 42 12] [    0     1     2     3     4    12 12345    12     1     0]\n",
      "False\n"
     ]
    }
   ],
   "source": [
    "arr_slice = a[5:8]\n",
    "arr_slice[1] = 12345\n",
    "print arr_slice, a\n",
    "print np.may_share_memory(a, arr_slice)\n",
    "\n",
    "arr_slice = a[5:8].copy()\n",
    "arr_slice[1] = 42\n",
    "print arr_slice, a\n",
    "print np.may_share_memory(a, arr_slice)"
   ]
  },
  {
   "cell_type": "markdown",
   "metadata": {},
   "source": [
    "__Fancy indexing and masks__\n",
    "![mask](http://www.scipy-lectures.org/_images/numpy_fancy_indexing.png)"
   ]
  },
  {
   "cell_type": "code",
   "execution_count": 109,
   "metadata": {},
   "outputs": [
    {
     "data": {
      "text/plain": [
       "array([[ 4,  7,  5,  6],\n",
       "       [20, 23, 21, 22],\n",
       "       [28, 31, 29, 30],\n",
       "       [ 8, 11,  9, 10]])"
      ]
     },
     "execution_count": 109,
     "metadata": {},
     "output_type": "execute_result"
    }
   ],
   "source": [
    "arr = np.arange(32).reshape((8, 4))\n",
    "# way out of fancy indexing\n",
    "arr[[1, 5, 7, 2]][:, [0, 3, 1, 2]]\n",
    "arr[np.ix_([1, 5, 7, 2], [0, 3, 1, 2])]"
   ]
  },
  {
   "cell_type": "markdown",
   "metadata": {},
   "source": [
    "Selecting data from an array by boolean indexing always creates a copy of the data, even if the returned array is unchanged."
   ]
  },
  {
   "cell_type": "code",
   "execution_count": 104,
   "metadata": {},
   "outputs": [
    {
     "name": "stdout",
     "output_type": "stream",
     "text": [
      "[[-1.5283478   0.14010683  0.53824511 -0.75336366]\n",
      " [-0.22091988  0.96924309  1.59868625 -0.32078323]\n",
      " [-0.31032688  0.66723839 -0.22176843 -0.11273209]\n",
      " [-0.36003392  0.08011902 -0.30371939 -0.05114867]\n",
      " [ 0.81419198  0.90813287  1.20924253  0.31264547]\n",
      " [ 1.01418072  0.01655871 -0.01551554  1.52435163]\n",
      " [ 1.00323696  0.24219676 -0.46400084 -0.70154431]]\n"
     ]
    }
   ],
   "source": [
    "names = np.array(['Bob', 'Joe', 'Will', 'Bob', 'Will', 'Joe', 'Joe'])\n",
    "data = np.random.randn(7, 4)\n",
    "print data"
   ]
  },
  {
   "cell_type": "code",
   "execution_count": 105,
   "metadata": {},
   "outputs": [
    {
     "name": "stdout",
     "output_type": "stream",
     "text": [
      "[ True False False  True False False False]\n",
      "[[-1.5283478   0.14010683  0.53824511 -0.75336366]\n",
      " [-0.36003392  0.08011902 -0.30371939 -0.05114867]]\n"
     ]
    }
   ],
   "source": [
    "print names == 'Bob'\n",
    "print data[names == 'Bob']"
   ]
  },
  {
   "cell_type": "code",
   "execution_count": 106,
   "metadata": {},
   "outputs": [
    {
     "name": "stdout",
     "output_type": "stream",
     "text": [
      "[False  True  True False  True  True  True]\n"
     ]
    },
    {
     "data": {
      "text/plain": [
       "array([[-0.22091988,  0.96924309,  1.59868625, -0.32078323],\n",
       "       [-0.31032688,  0.66723839, -0.22176843, -0.11273209],\n",
       "       [ 0.81419198,  0.90813287,  1.20924253,  0.31264547],\n",
       "       [ 1.01418072,  0.01655871, -0.01551554,  1.52435163],\n",
       "       [ 1.00323696,  0.24219676, -0.46400084, -0.70154431]])"
      ]
     },
     "execution_count": 106,
     "metadata": {},
     "output_type": "execute_result"
    }
   ],
   "source": [
    "print ~(names == 'Bob')\n",
    "data[~(names == 'Bob')]"
   ]
  },
  {
   "cell_type": "code",
   "execution_count": 107,
   "metadata": {},
   "outputs": [
    {
     "data": {
      "text/plain": [
       "array([[-1.5283478 ,  0.14010683,  0.53824511, -0.75336366],\n",
       "       [-0.31032688,  0.66723839, -0.22176843, -0.11273209],\n",
       "       [-0.36003392,  0.08011902, -0.30371939, -0.05114867],\n",
       "       [ 0.81419198,  0.90813287,  1.20924253,  0.31264547]])"
      ]
     },
     "execution_count": 107,
     "metadata": {},
     "output_type": "execute_result"
    }
   ],
   "source": [
    "mask = (names == 'Bob') | (names == 'Will')\n",
    "data[mask]"
   ]
  },
  {
   "cell_type": "code",
   "execution_count": 108,
   "metadata": {},
   "outputs": [
    {
     "name": "stdout",
     "output_type": "stream",
     "text": [
      "[[ 0.          0.14010683  0.53824511  0.        ]\n",
      " [ 0.          0.96924309  1.59868625  0.        ]\n",
      " [ 0.          0.66723839  0.          0.        ]\n",
      " [ 0.          0.08011902  0.          0.        ]\n",
      " [ 0.81419198  0.90813287  1.20924253  0.31264547]\n",
      " [ 1.01418072  0.01655871  0.          1.52435163]\n",
      " [ 1.00323696  0.24219676  0.          0.        ]]\n"
     ]
    }
   ],
   "source": [
    "data[data < 0] = 0\n",
    "print data"
   ]
  },
  {
   "cell_type": "markdown",
   "metadata": {},
   "source": [
    "#### Swapping axes"
   ]
  },
  {
   "cell_type": "code",
   "execution_count": 110,
   "metadata": {},
   "outputs": [
    {
     "name": "stdout",
     "output_type": "stream",
     "text": [
      "[[ 0  1  2  3  4]\n",
      " [ 5  6  7  8  9]\n",
      " [10 11 12 13 14]]\n"
     ]
    }
   ],
   "source": [
    "arr = np.arange(15).reshape((3, 5))\n",
    "print arr"
   ]
  },
  {
   "cell_type": "code",
   "execution_count": 112,
   "metadata": {},
   "outputs": [
    {
     "name": "stdout",
     "output_type": "stream",
     "text": [
      "[[125 140 155 170 185]\n",
      " [140 158 176 194 212]\n",
      " [155 176 197 218 239]\n",
      " [170 194 218 242 266]\n",
      " [185 212 239 266 293]]\n"
     ]
    }
   ],
   "source": [
    "print np.dot(arr.T, arr)"
   ]
  },
  {
   "cell_type": "code",
   "execution_count": 120,
   "metadata": {},
   "outputs": [
    {
     "name": "stdout",
     "output_type": "stream",
     "text": [
      "[[[ 0  1  2  3]\n",
      "  [ 4  5  6  7]]\n",
      "\n",
      " [[ 8  9 10 11]\n",
      "  [12 13 14 15]]]\n"
     ]
    },
    {
     "data": {
      "text/plain": [
       "array([[[ 0,  1,  2,  3],\n",
       "        [ 8,  9, 10, 11]],\n",
       "\n",
       "       [[ 4,  5,  6,  7],\n",
       "        [12, 13, 14, 15]]])"
      ]
     },
     "execution_count": 120,
     "metadata": {},
     "output_type": "execute_result"
    }
   ],
   "source": [
    "arr = np.arange(16).reshape((2, 2, 4))\n",
    "print arr\n",
    "arr.transpose((1, 0, 2))"
   ]
  },
  {
   "cell_type": "markdown",
   "metadata": {},
   "source": [
    "#### Universal functions"
   ]
  },
  {
   "cell_type": "markdown",
   "metadata": {},
   "source": [
    "A universal function, or ufunc, is a function that performs elementwise operations on data in ndarrays. You can think of them as fast vectorized wrappers for simple functions that take one or more scalar values and produce one or more scalar results"
   ]
  },
  {
   "cell_type": "markdown",
   "metadata": {},
   "source": [
    "Unary"
   ]
  },
  {
   "cell_type": "code",
   "execution_count": 124,
   "metadata": {},
   "outputs": [
    {
     "name": "stdout",
     "output_type": "stream",
     "text": [
      "[ 0.          1.          1.41421356  1.73205081  2.          2.23606798\n",
      "  2.44948974  2.64575131  2.82842712  3.        ]\n",
      "[  1.00000000e+00   2.71828183e+00   7.38905610e+00   2.00855369e+01\n",
      "   5.45981500e+01   1.48413159e+02   4.03428793e+02   1.09663316e+03\n",
      "   2.98095799e+03   8.10308393e+03]\n"
     ]
    }
   ],
   "source": [
    "arr = np.arange(10)\n",
    "print np.sqrt(arr)\n",
    "print np.exp(arr)"
   ]
  },
  {
   "cell_type": "markdown",
   "metadata": {},
   "source": [
    "Binary"
   ]
  },
  {
   "cell_type": "code",
   "execution_count": 127,
   "metadata": {},
   "outputs": [
    {
     "name": "stdout",
     "output_type": "stream",
     "text": [
      "[-0.0526312  -0.9955059   0.82856087 -1.28964816 -0.273294    0.10774261\n",
      "  2.07571425 -1.53375676]\n",
      "[ 0.9305797   0.74073933  0.96984468 -1.67614748 -1.87912671 -0.45555303\n",
      "  0.08506365 -0.17664835]\n",
      "\n",
      "[ 0.9305797   0.74073933  0.96984468 -1.28964816 -0.273294    0.10774261\n",
      "  2.07571425 -0.17664835]\n"
     ]
    }
   ],
   "source": [
    "x, y = np.random.randn(8), np.random.randn(8)\n",
    "print x\n",
    "print y\n",
    "print\n",
    "print np.maximum(x, y) "
   ]
  },
  {
   "cell_type": "code",
   "execution_count": 130,
   "metadata": {},
   "outputs": [
    {
     "data": {
      "text/plain": [
       "(array([-0.71641407, -0.01451731, -0.01178657,  0.55398804, -0.83583185]),\n",
       " array([-0., -1., -0.,  0., -0.]))"
      ]
     },
     "execution_count": 130,
     "metadata": {},
     "output_type": "execute_result"
    }
   ],
   "source": [
    "np.modf(np.random.randn(5)) # ala divmod"
   ]
  },
  {
   "cell_type": "markdown",
   "metadata": {},
   "source": [
    "#### Data processing"
   ]
  },
  {
   "cell_type": "markdown",
   "metadata": {},
   "source": [
    "__Where__"
   ]
  },
  {
   "cell_type": "code",
   "execution_count": 131,
   "metadata": {},
   "outputs": [
    {
     "data": {
      "text/plain": [
       "array([[-2,  2,  2,  2],\n",
       "       [-2, -2, -2, -2],\n",
       "       [ 2, -2, -2,  2],\n",
       "       [-2,  2, -2,  2]])"
      ]
     },
     "execution_count": 131,
     "metadata": {},
     "output_type": "execute_result"
    }
   ],
   "source": [
    "arr = np.random.randn(4, 4)\n",
    "np.where(arr > 0, 2, -2)"
   ]
  },
  {
   "cell_type": "code",
   "execution_count": 132,
   "metadata": {},
   "outputs": [
    {
     "data": {
      "text/plain": [
       "array([[-0.39449122,  2.        ,  2.        ,  2.        ],\n",
       "       [-0.71261857, -1.00231704, -0.44702208, -1.03565278],\n",
       "       [ 2.        , -0.39487002, -0.03649379,  2.        ],\n",
       "       [-0.07754572,  2.        , -1.898401  ,  2.        ]])"
      ]
     },
     "execution_count": 132,
     "metadata": {},
     "output_type": "execute_result"
    }
   ],
   "source": [
    "np.where(arr > 0, 2, arr)"
   ]
  },
  {
   "cell_type": "markdown",
   "metadata": {},
   "source": [
    "__Math__"
   ]
  },
  {
   "cell_type": "markdown",
   "metadata": {},
   "source": [
    "![axis](http://www.elimhk.com/myblog/wp-content/uploads/2017/04/axis.png)"
   ]
  },
  {
   "cell_type": "code",
   "execution_count": 140,
   "metadata": {},
   "outputs": [
    {
     "name": "stdout",
     "output_type": "stream",
     "text": [
      "[[-0.81066714 -0.25991019 -0.31942067  0.23807803]\n",
      " [ 0.57812932 -1.04518508  1.71979807 -1.59440689]\n",
      " [-0.85400688 -0.70706047  0.11041581  0.12781889]\n",
      " [-0.07491424  0.20065137 -1.60130393 -0.26431021]\n",
      " [-0.03797753  1.18394037 -1.04056677 -0.20872655]]\n"
     ]
    }
   ],
   "source": [
    "arr = np.random.randn(5, 4)\n",
    "print arr"
   ]
  },
  {
   "cell_type": "code",
   "execution_count": 141,
   "metadata": {},
   "outputs": [
    {
     "name": "stdout",
     "output_type": "stream",
     "text": [
      "-0.232981233234\n",
      "-0.232981233234\n"
     ]
    }
   ],
   "source": [
    "print arr.mean()\n",
    "print np.mean(arr)"
   ]
  },
  {
   "cell_type": "code",
   "execution_count": 142,
   "metadata": {},
   "outputs": [
    {
     "data": {
      "text/plain": [
       "-4.659624664685567"
      ]
     },
     "execution_count": 142,
     "metadata": {},
     "output_type": "execute_result"
    }
   ],
   "source": [
    "arr.sum()"
   ]
  },
  {
   "cell_type": "code",
   "execution_count": 143,
   "metadata": {},
   "outputs": [
    {
     "data": {
      "text/plain": [
       "array([-0.28797999, -0.08541614, -0.33070816, -0.43496925, -0.02583262])"
      ]
     },
     "execution_count": 143,
     "metadata": {},
     "output_type": "execute_result"
    }
   ],
   "source": [
    "arr.mean(axis=1)"
   ]
  },
  {
   "cell_type": "code",
   "execution_count": 144,
   "metadata": {},
   "outputs": [
    {
     "data": {
      "text/plain": [
       "array([-1.19943646, -0.62756399, -1.13107748, -1.70154673])"
      ]
     },
     "execution_count": 144,
     "metadata": {},
     "output_type": "execute_result"
    }
   ],
   "source": [
    "arr.sum(0)"
   ]
  },
  {
   "cell_type": "code",
   "execution_count": 145,
   "metadata": {},
   "outputs": [
    {
     "data": {
      "text/plain": [
       "array([[ 0,  1,  2],\n",
       "       [ 3,  5,  7],\n",
       "       [ 9, 12, 15]])"
      ]
     },
     "execution_count": 145,
     "metadata": {},
     "output_type": "execute_result"
    }
   ],
   "source": [
    "arr = np.array([[0, 1, 2], [3, 4, 5], [6, 7, 8]])\n",
    "arr.cumsum(0)"
   ]
  },
  {
   "cell_type": "code",
   "execution_count": 146,
   "metadata": {},
   "outputs": [
    {
     "data": {
      "text/plain": [
       "array([[  0,   0,   0],\n",
       "       [  3,  12,  60],\n",
       "       [  6,  42, 336]])"
      ]
     },
     "execution_count": 146,
     "metadata": {},
     "output_type": "execute_result"
    }
   ],
   "source": [
    "arr.cumprod(1)"
   ]
  },
  {
   "cell_type": "code",
   "execution_count": 147,
   "metadata": {},
   "outputs": [
    {
     "data": {
      "text/plain": [
       "1"
      ]
     },
     "execution_count": 147,
     "metadata": {},
     "output_type": "execute_result"
    }
   ],
   "source": [
    "bools = np.array([False, False, True, False])\n",
    "(bools > 0).sum()"
   ]
  },
  {
   "cell_type": "code",
   "execution_count": 148,
   "metadata": {},
   "outputs": [
    {
     "name": "stdout",
     "output_type": "stream",
     "text": [
      "True False\n"
     ]
    }
   ],
   "source": [
    "print bools.any(), bools.all()"
   ]
  },
  {
   "cell_type": "code",
   "execution_count": 150,
   "metadata": {},
   "outputs": [
    {
     "data": {
      "text/plain": [
       "1.5183174933926218"
      ]
     },
     "execution_count": 150,
     "metadata": {},
     "output_type": "execute_result"
    }
   ],
   "source": [
    "large_arr = np.random.randn(1000)\n",
    "large_arr.sort() # in-place unlike np.sort\n",
    "large_arr[int(0.95 * len(large_arr))] # 95% quantile"
   ]
  },
  {
   "cell_type": "markdown",
   "metadata": {},
   "source": [
    "#### Useful logic"
   ]
  },
  {
   "cell_type": "code",
   "execution_count": 151,
   "metadata": {},
   "outputs": [
    {
     "data": {
      "text/plain": [
       "array(['Bob', 'Joe', 'Will'], \n",
       "      dtype='|S4')"
      ]
     },
     "execution_count": 151,
     "metadata": {},
     "output_type": "execute_result"
    }
   ],
   "source": [
    "names = np.array(['Bob', 'Joe', 'Will', 'Bob', 'Will', 'Joe', 'Joe'])\n",
    "np.unique(names)"
   ]
  },
  {
   "cell_type": "code",
   "execution_count": 152,
   "metadata": {},
   "outputs": [
    {
     "data": {
      "text/plain": [
       "array([ True, False, False,  True,  True, False,  True], dtype=bool)"
      ]
     },
     "execution_count": 152,
     "metadata": {},
     "output_type": "execute_result"
    }
   ],
   "source": [
    "values = np.array([6, 0, 0, 3, 2, 5, 6])\n",
    "np.in1d(values, [2, 3, 6])"
   ]
  },
  {
   "cell_type": "markdown",
   "metadata": {},
   "source": [
    "#### Linear Algebra"
   ]
  },
  {
   "cell_type": "code",
   "execution_count": 153,
   "metadata": {},
   "outputs": [
    {
     "data": {
      "text/plain": [
       "array([[  28.,   64.],\n",
       "       [  67.,  181.]])"
      ]
     },
     "execution_count": 153,
     "metadata": {},
     "output_type": "execute_result"
    }
   ],
   "source": [
    "x = np.array([[1., 2., 3.], [4., 5., 6.]])\n",
    "y = np.array([[6., 23.], [-1, 7], [8, 9]])\n",
    "x.dot(y) # equivalently np.dot(x, y)"
   ]
  },
  {
   "cell_type": "code",
   "execution_count": 154,
   "metadata": {},
   "outputs": [
    {
     "data": {
      "text/plain": [
       "array([  6.,  15.])"
      ]
     },
     "execution_count": 154,
     "metadata": {},
     "output_type": "execute_result"
    }
   ],
   "source": [
    "np.dot(x, np.ones(3))"
   ]
  },
  {
   "cell_type": "code",
   "execution_count": 158,
   "metadata": {},
   "outputs": [
    {
     "data": {
      "text/plain": [
       "array([[ 5.20153352, -5.03635007,  3.31837909, -1.58592535, -0.16351534],\n",
       "       [-5.03635007,  5.0480224 , -3.28273136,  1.57140996,  0.14823926],\n",
       "       [ 3.31837909, -3.28273136,  2.22971043, -1.01626388, -0.06433517],\n",
       "       [-1.58592535,  1.57140996, -1.01626388,  0.57474114,  0.08174633],\n",
       "       [-0.16351534,  0.14823926, -0.06433517,  0.08174633,  0.37792932]])"
      ]
     },
     "execution_count": 158,
     "metadata": {},
     "output_type": "execute_result"
    }
   ],
   "source": [
    "X = np.random.randn(5, 5)\n",
    "mat = np.linalg.inv(X.T.dot(X))\n",
    "mat"
   ]
  },
  {
   "cell_type": "code",
   "execution_count": 164,
   "metadata": {},
   "outputs": [
    {
     "name": "stdout",
     "output_type": "stream",
     "text": [
      "[[-0.64038917 -0.72596203  0.143584   -0.16152984  0.12717149]\n",
      " [ 0.62005253 -0.67007542 -0.31569834  0.257908   -0.01875671]\n",
      " [-0.40854375  0.0947695  -0.81906296  0.2014221  -0.33567208]\n",
      " [ 0.19525192 -0.06546543 -0.19785017 -0.90468443 -0.31621567]\n",
      " [ 0.02013127  0.10349436 -0.41195796 -0.21992449  0.87795644]] [[-8.12245709  8.00620751 -5.27117678  2.51901936  0.24648264]\n",
      " [ 0.         -0.12499067  0.06184071 -0.0271178   0.04703943]\n",
      " [ 0.          0.         -0.08588287 -0.03880961 -0.18944704]\n",
      " [ 0.          0.          0.         -0.08118191 -0.10538437]\n",
      " [ 0.          0.          0.          0.          0.30397656]]\n"
     ]
    }
   ],
   "source": [
    "q, r = np.linalg.qr(mat)\n",
    "print q, r"
   ]
  },
  {
   "cell_type": "markdown",
   "metadata": {},
   "source": [
    "#### Random"
   ]
  },
  {
   "cell_type": "code",
   "execution_count": 166,
   "metadata": {
    "collapsed": true
   },
   "outputs": [],
   "source": [
    "from random import normalvariate\n",
    "N = 1000000"
   ]
  },
  {
   "cell_type": "code",
   "execution_count": 167,
   "metadata": {},
   "outputs": [
    {
     "name": "stdout",
     "output_type": "stream",
     "text": [
      "1 loop, best of 3: 1.29 s per loop\n"
     ]
    }
   ],
   "source": [
    "%timeit samples = [normalvariate(0, 1) for _ in xrange(N)]"
   ]
  },
  {
   "cell_type": "code",
   "execution_count": 168,
   "metadata": {},
   "outputs": [
    {
     "name": "stdout",
     "output_type": "stream",
     "text": [
      "10 loops, best of 3: 54.7 ms per loop\n"
     ]
    }
   ],
   "source": [
    "%timeit np.random.normal(size=N)"
   ]
  },
  {
   "cell_type": "markdown",
   "metadata": {},
   "source": [
    "Random walk"
   ]
  },
  {
   "cell_type": "code",
   "execution_count": 169,
   "metadata": {},
   "outputs": [
    {
     "name": "stdout",
     "output_type": "stream",
     "text": [
      "CPU times: user 4 µs, sys: 1e+03 ns, total: 5 µs\n",
      "Wall time: 31 µs\n"
     ]
    }
   ],
   "source": [
    "import random\n",
    "position = 0\n",
    "walk = [position]\n",
    "steps = 1000\n",
    "for i in xrange(steps):\n",
    "    step = 1 if random.randint(0, 1) else -1\n",
    "    position += step\n",
    "    walk.append(position)"
   ]
  },
  {
   "cell_type": "code",
   "execution_count": 173,
   "metadata": {},
   "outputs": [],
   "source": [
    "nsteps = 1000\n",
    "nwalks = 5000\n",
    "draws = np.random.randint(0, 2, size=(nwalks, nsteps)) # 0 or 1\n",
    "steps = np.where(draws > 0, 1, -1)\n",
    "walks = steps.cumsum(1)"
   ]
  },
  {
   "cell_type": "code",
   "execution_count": 174,
   "metadata": {},
   "outputs": [],
   "source": [
    "hits30 = (np.abs(walks) >= 30).any(1)"
   ]
  },
  {
   "cell_type": "code",
   "execution_count": 175,
   "metadata": {},
   "outputs": [
    {
     "name": "stdout",
     "output_type": "stream",
     "text": [
      "3347\n"
     ]
    },
    {
     "data": {
      "text/plain": [
       "503.32685987451447"
      ]
     },
     "execution_count": 175,
     "metadata": {},
     "output_type": "execute_result"
    }
   ],
   "source": [
    "print hits30.sum()\n",
    "crossing_times = (np.abs(walks[hits30]) >= 30).argmax(1)\n",
    "crossing_times.mean()"
   ]
  },
  {
   "cell_type": "markdown",
   "metadata": {},
   "source": [
    "### References"
   ]
  },
  {
   "cell_type": "markdown",
   "metadata": {},
   "source": [
    "* https://arxiv.org/pdf/1102.1523.pdf\n",
    "* http://www.scipy-lectures.org/index.html"
   ]
  },
  {
   "cell_type": "markdown",
   "metadata": {},
   "source": [
    "### Summary"
   ]
  },
  {
   "cell_type": "markdown",
   "metadata": {},
   "source": [
    "* numpy is highly efficient scientific computing package\n",
    "* remember that not all operations return copy of array\n",
    "* you can express alot of task in numpy, but sometimes it gets tricky"
   ]
  },
  {
   "cell_type": "markdown",
   "metadata": {},
   "source": [
    "## Advanced Numpy"
   ]
  },
  {
   "cell_type": "markdown",
   "metadata": {},
   "source": [
    "#### Array internals"
   ]
  },
  {
   "cell_type": "markdown",
   "metadata": {},
   "source": [
    "![arr2](http://jakevdp.github.io/images/array_vs_list.png)"
   ]
  },
  {
   "cell_type": "markdown",
   "metadata": {},
   "source": [
    "Strides - the number of bytes to jump to find the next element, 1 stride per dimension"
   ]
  },
  {
   "cell_type": "code",
   "execution_count": 3,
   "metadata": {},
   "outputs": [
    {
     "name": "stdout",
     "output_type": "stream",
     "text": [
      "(3, 1)\n",
      "True\n"
     ]
    }
   ],
   "source": [
    "x = np.array([[1, 2, 3],\n",
    "              [4, 5, 6],\n",
    "              [7, 8, 9]], dtype=np.int8)\n",
    "print x.strides\n",
    "byte_offset = 3*1 + 1*2   # to find x[1, 2]\n",
    "print x.flat[byte_offset] == x[1, 2] == 6"
   ]
  },
  {
   "cell_type": "markdown",
   "metadata": {},
   "source": [
    "__ndarray__ = block of memory + indexing scheme + data type descriptor\n",
    "* raw data\n",
    "* how to locate an element\n",
    "* how to interpret an element"
   ]
  },
  {
   "cell_type": "code",
   "execution_count": null,
   "metadata": {
    "collapsed": true
   },
   "outputs": [],
   "source": [
    "typedef struct PyArrayObject {\n",
    "        PyObject_HEAD\n",
    "\n",
    "        /* Block of memory */\n",
    "        char *data;\n",
    "\n",
    "        /* Data type descriptor */\n",
    "        PyArray_Descr *descr;\n",
    "\n",
    "        /* Indexing scheme */\n",
    "        int nd;\n",
    "        npy_intp *dimensions;\n",
    "        npy_intp *strides;\n",
    "\n",
    "        /* Other stuff */\n",
    "        PyObject *base;\n",
    "        int flags;\n",
    "        PyObject *weakreflist;\n",
    "} PyArrayObject;"
   ]
  },
  {
   "cell_type": "code",
   "execution_count": 176,
   "metadata": {
    "collapsed": true
   },
   "outputs": [],
   "source": [
    "ints = np.ones(10, dtype=np.uint16)\n",
    "floats = np.ones(10, dtype=np.float32)"
   ]
  },
  {
   "cell_type": "code",
   "execution_count": 177,
   "metadata": {},
   "outputs": [
    {
     "data": {
      "text/plain": [
       "True"
      ]
     },
     "execution_count": 177,
     "metadata": {},
     "output_type": "execute_result"
    }
   ],
   "source": [
    "np.issubdtype(ints.dtype, np.integer)"
   ]
  },
  {
   "cell_type": "code",
   "execution_count": 178,
   "metadata": {},
   "outputs": [
    {
     "data": {
      "text/plain": [
       "True"
      ]
     },
     "execution_count": 178,
     "metadata": {},
     "output_type": "execute_result"
    }
   ],
   "source": [
    "np.issubdtype(floats.dtype, np.floating)"
   ]
  },
  {
   "cell_type": "code",
   "execution_count": 179,
   "metadata": {},
   "outputs": [
    {
     "data": {
      "text/plain": [
       "[numpy.float64,\n",
       " numpy.floating,\n",
       " numpy.inexact,\n",
       " numpy.number,\n",
       " numpy.generic,\n",
       " float,\n",
       " object]"
      ]
     },
     "execution_count": 179,
     "metadata": {},
     "output_type": "execute_result"
    }
   ],
   "source": [
    "np.float64.mro()"
   ]
  },
  {
   "cell_type": "markdown",
   "metadata": {},
   "source": [
    "![types](https://docs.scipy.org/doc/numpy-1.5.x/_images/dtype-hierarchy.png)"
   ]
  },
  {
   "cell_type": "markdown",
   "metadata": {},
   "source": [
    "#### Manipulation"
   ]
  },
  {
   "cell_type": "code",
   "execution_count": 181,
   "metadata": {},
   "outputs": [
    {
     "data": {
      "text/plain": [
       "array([[0, 1, 2, 3],\n",
       "       [4, 5, 6, 7]])"
      ]
     },
     "execution_count": 181,
     "metadata": {},
     "output_type": "execute_result"
    }
   ],
   "source": [
    "arr = np.arange(8)\n",
    "arr.reshape((4, 2)).reshape((2, 4))"
   ]
  },
  {
   "cell_type": "code",
   "execution_count": 184,
   "metadata": {},
   "outputs": [
    {
     "data": {
      "text/plain": [
       "array([[0],\n",
       "       [1],\n",
       "       [2],\n",
       "       [3],\n",
       "       [4],\n",
       "       [5],\n",
       "       [6],\n",
       "       [7]])"
      ]
     },
     "execution_count": 184,
     "metadata": {},
     "output_type": "execute_result"
    }
   ],
   "source": [
    "arr.reshape(8, -1)"
   ]
  },
  {
   "cell_type": "code",
   "execution_count": 186,
   "metadata": {},
   "outputs": [
    {
     "data": {
      "text/plain": [
       "array([ 0,  1,  2,  3,  4,  5,  6,  7,  8,  9, 10, 11, 12, 13, 14])"
      ]
     },
     "execution_count": 186,
     "metadata": {},
     "output_type": "execute_result"
    }
   ],
   "source": [
    "arr = np.arange(15).reshape((5, 3))\n",
    "arr.ravel() # returns view\n",
    "arr.flatten() # returns copy"
   ]
  },
  {
   "cell_type": "markdown",
   "metadata": {},
   "source": [
    "![order](https://software.intel.com/sites/default/files/did_feeds_images/4C42384A-7AF3-42B9-9012-92A90644E892/4C42384A-7AF3-42B9-9012-92A90644E892-imageId=18A87EEC-62A3-4246-90E2-5C5B301F3275.jpg)"
   ]
  },
  {
   "cell_type": "markdown",
   "metadata": {},
   "source": [
    "* C / row major order: traverse higher dimensions first (e.g. axis 1 before advancing on axis 0).\n",
    "* Fortran / column major order: traverse higher dimensions last (e.g. axis 0 before advancing on axis 1)."
   ]
  },
  {
   "cell_type": "code",
   "execution_count": 188,
   "metadata": {},
   "outputs": [
    {
     "name": "stdout",
     "output_type": "stream",
     "text": [
      "[[ 0  1  2]\n",
      " [ 3  4  5]\n",
      " [ 6  7  8]\n",
      " [ 9 10 11]\n",
      " [12 13 14]]\n"
     ]
    },
    {
     "data": {
      "text/plain": [
       "array([ 0,  3,  6,  9, 12,  1,  4,  7, 10, 13,  2,  5,  8, 11, 14])"
      ]
     },
     "execution_count": 188,
     "metadata": {},
     "output_type": "execute_result"
    }
   ],
   "source": [
    "print arr\n",
    "arr.ravel('F')"
   ]
  },
  {
   "cell_type": "markdown",
   "metadata": {},
   "source": [
    "__Concatenation__"
   ]
  },
  {
   "cell_type": "code",
   "execution_count": 189,
   "metadata": {
    "collapsed": true
   },
   "outputs": [],
   "source": [
    "arr1 = np.array([[1, 2, 3], [4, 5, 6]])\n",
    "arr2 = np.array([[7, 8, 9], [10, 11, 12]])"
   ]
  },
  {
   "cell_type": "code",
   "execution_count": 190,
   "metadata": {},
   "outputs": [
    {
     "data": {
      "text/plain": [
       "array([[ 1,  2,  3],\n",
       "       [ 4,  5,  6],\n",
       "       [ 7,  8,  9],\n",
       "       [10, 11, 12]])"
      ]
     },
     "execution_count": 190,
     "metadata": {},
     "output_type": "execute_result"
    }
   ],
   "source": [
    "np.concatenate([arr1, arr2]) # axis=0"
   ]
  },
  {
   "cell_type": "code",
   "execution_count": 192,
   "metadata": {},
   "outputs": [
    {
     "name": "stdout",
     "output_type": "stream",
     "text": [
      "[[ 1  2  3]\n",
      " [ 4  5  6]\n",
      " [ 7  8  9]\n",
      " [10 11 12]]\n",
      "\n",
      "[[ 1  2  3  7  8  9]\n",
      " [ 4  5  6 10 11 12]]\n"
     ]
    }
   ],
   "source": [
    "print np.vstack((arr1, arr2))\n",
    "print \n",
    "print np.hstack((arr1, arr2))"
   ]
  },
  {
   "cell_type": "code",
   "execution_count": 195,
   "metadata": {},
   "outputs": [
    {
     "name": "stdout",
     "output_type": "stream",
     "text": [
      "[[ 1  2  3]\n",
      " [ 4  5  6]\n",
      " [ 7  8  9]\n",
      " [10 11 12]]\n",
      "\n",
      "[[ 1  2  3  1  2  3]\n",
      " [ 4  5  6  4  5  6]\n",
      " [ 7  8  9  7  8  9]\n",
      " [10 11 12 10 11 12]]\n"
     ]
    }
   ],
   "source": [
    "print np.r_[arr1, arr2]\n",
    "print\n",
    "print np.c_[np.r_[arr1, arr2], np.r_[arr1, arr2]]"
   ]
  },
  {
   "cell_type": "code",
   "execution_count": 196,
   "metadata": {
    "scrolled": true
   },
   "outputs": [
    {
     "data": {
      "text/plain": [
       "array([[  1, -10],\n",
       "       [  2,  -9],\n",
       "       [  3,  -8],\n",
       "       [  4,  -7],\n",
       "       [  5,  -6]])"
      ]
     },
     "execution_count": 196,
     "metadata": {},
     "output_type": "execute_result"
    }
   ],
   "source": [
    "np.c_[1:6, -10:-5]"
   ]
  },
  {
   "cell_type": "markdown",
   "metadata": {},
   "source": [
    "#### Take"
   ]
  },
  {
   "cell_type": "code",
   "execution_count": 198,
   "metadata": {},
   "outputs": [],
   "source": [
    "arr = np.random.randn(1000, 50)\n",
    "inds = np.random.permutation(1000)[:500]"
   ]
  },
  {
   "cell_type": "code",
   "execution_count": 199,
   "metadata": {},
   "outputs": [
    {
     "name": "stdout",
     "output_type": "stream",
     "text": [
      "The slowest run took 68.82 times longer than the fastest. This could mean that an intermediate result is being cached.\n",
      "10000 loops, best of 3: 29.2 µs per loop\n"
     ]
    }
   ],
   "source": [
    "%timeit arr[inds]"
   ]
  },
  {
   "cell_type": "code",
   "execution_count": 200,
   "metadata": {},
   "outputs": [
    {
     "name": "stdout",
     "output_type": "stream",
     "text": [
      "The slowest run took 19.64 times longer than the fastest. This could mean that an intermediate result is being cached.\n",
      "10000 loops, best of 3: 32.3 µs per loop\n"
     ]
    }
   ],
   "source": [
    "%timeit arr.take(inds, axis=0)"
   ]
  },
  {
   "cell_type": "markdown",
   "metadata": {},
   "source": [
    "#### Broadcasting"
   ]
  },
  {
   "cell_type": "markdown",
   "metadata": {},
   "source": [
    "Broadcasting describes how arithmetic works between arrays of different shapes."
   ]
  },
  {
   "cell_type": "code",
   "execution_count": 5,
   "metadata": {},
   "outputs": [
    {
     "name": "stdout",
     "output_type": "stream",
     "text": [
      "(3,) [-0.21749765 -0.81152689 -0.14937076]\n"
     ]
    },
    {
     "data": {
      "text/plain": [
       "array([[ 0.29288081, -0.73984827, -0.1780558 ],\n",
       "       [ 0.51454823, -0.5146914 , -0.37884793],\n",
       "       [-0.691896  ,  1.31146869,  1.07951053],\n",
       "       [-0.11553305, -0.05692902, -0.5226068 ]])"
      ]
     },
     "execution_count": 5,
     "metadata": {},
     "output_type": "execute_result"
    }
   ],
   "source": [
    "arr = np.random.randn(4, 3)\n",
    "means = arr.mean(0)\n",
    "print means.shape, means\n",
    "arr - means"
   ]
  },
  {
   "cell_type": "markdown",
   "metadata": {},
   "source": [
    "![broad](http://www.scipy-lectures.org/_images/numpy_broadcasting.png)"
   ]
  },
  {
   "cell_type": "markdown",
   "metadata": {},
   "source": [
    "Two arrays are compatible for broadcasting if for each trailing dimension (that is, starting from the end), the axis lengths match or if either of the lengths is 1. Broadcasting is then performed over the missing and / or length 1 dimensions."
   ]
  },
  {
   "cell_type": "code",
   "execution_count": 7,
   "metadata": {},
   "outputs": [
    {
     "name": "stdout",
     "output_type": "stream",
     "text": [
      "[[-0.60113952]\n",
      " [-0.5191288 ]\n",
      " [ 0.17356264]\n",
      " [-0.62448806]]\n"
     ]
    },
    {
     "data": {
      "text/plain": [
       "array([[ 0.67652268, -0.95023564,  0.27371296],\n",
       "       [ 0.81617938, -0.80708949, -0.0090899 ],\n",
       "       [-1.08295629,  0.32637916,  0.75657713],\n",
       "       [ 0.29145736, -0.24396785, -0.04748951]])"
      ]
     },
     "execution_count": 7,
     "metadata": {},
     "output_type": "execute_result"
    }
   ],
   "source": [
    "row_means = arr.mean(1)\n",
    "print row_means.reshape((4, 1))\n",
    "arr - row_means.reshape((4, 1))"
   ]
  },
  {
   "cell_type": "code",
   "execution_count": 206,
   "metadata": {},
   "outputs": [
    {
     "ename": "ValueError",
     "evalue": "operands could not be broadcast together with shapes (4,3) (4,) ",
     "output_type": "error",
     "traceback": [
      "\u001b[0;31m---------------------------------------------------------------------------\u001b[0m",
      "\u001b[0;31mValueError\u001b[0m                                Traceback (most recent call last)",
      "\u001b[0;32m<ipython-input-206-3d1314c7e700>\u001b[0m in \u001b[0;36m<module>\u001b[0;34m()\u001b[0m\n\u001b[0;32m----> 1\u001b[0;31m \u001b[0marr\u001b[0m \u001b[0;34m-\u001b[0m \u001b[0mrow_means\u001b[0m\u001b[0;34m\u001b[0m\u001b[0m\n\u001b[0m",
      "\u001b[0;31mValueError\u001b[0m: operands could not be broadcast together with shapes (4,3) (4,) "
     ]
    }
   ],
   "source": [
    "arr - row_means"
   ]
  },
  {
   "cell_type": "markdown",
   "metadata": {},
   "source": [
    "A very common problem, therefore, is needing to add a new axis with length 1 specifically for broadcasting purposes, especially in generic algorithms"
   ]
  },
  {
   "cell_type": "code",
   "execution_count": 208,
   "metadata": {},
   "outputs": [
    {
     "name": "stdout",
     "output_type": "stream",
     "text": [
      "[[[ 0.  0.  0.  0.]]\n",
      "\n",
      " [[ 0.  0.  0.  0.]]\n",
      "\n",
      " [[ 0.  0.  0.  0.]]\n",
      "\n",
      " [[ 0.  0.  0.  0.]]]\n"
     ]
    }
   ],
   "source": [
    "arr = np.zeros((4, 4))\n",
    "print arr[:, np.newaxis, :]"
   ]
  },
  {
   "cell_type": "code",
   "execution_count": 213,
   "metadata": {},
   "outputs": [
    {
     "data": {
      "text/plain": [
       "array([[-0.61701984],\n",
       "       [ 0.00281057],\n",
       "       [-0.93447975]])"
      ]
     },
     "execution_count": 213,
     "metadata": {},
     "output_type": "execute_result"
    }
   ],
   "source": [
    "arr = np.random.normal(size=3)\n",
    "arr[:, np.newaxis]"
   ]
  },
  {
   "cell_type": "code",
   "execution_count": 223,
   "metadata": {},
   "outputs": [
    {
     "data": {
      "text/plain": [
       "array([[[-0.85287958, -1.35459113,  0.97692104,  0.05476798,  1.17578169],\n",
       "        [ 1.15806608, -0.48684018, -0.87825412,  1.86777637, -1.66074815],\n",
       "        [-1.44705179,  0.99661449,  0.86775399,  0.73727199, -1.15458868],\n",
       "        [ 0.40009561, -0.75291318, -0.09097074,  0.11331774,  0.33047057]],\n",
       "\n",
       "       [[-1.17539817,  0.13107328,  0.06891551,  0.66748932,  0.30792006],\n",
       "        [-0.09687255, -0.62969822,  0.14962286,  0.3227205 ,  0.25422742],\n",
       "        [-0.77496947, -0.90789685,  1.21264946,  0.84090487, -0.37068801],\n",
       "        [ 1.70781003, -1.74800037, -0.80589431,  0.15285967,  0.69322498]],\n",
       "\n",
       "       [[-0.74810075,  1.19761387, -0.62800485,  0.88251681, -0.70402508],\n",
       "        [ 1.51633739, -2.22151518,  0.89402991,  0.03370215, -0.22255428],\n",
       "        [-0.37045777, -0.03545737, -0.45220015, -0.15127919,  1.00939447],\n",
       "        [ 0.12220496,  0.63164982,  1.1342667 , -2.26277011,  0.37464863]]])"
      ]
     },
     "execution_count": 223,
     "metadata": {},
     "output_type": "execute_result"
    }
   ],
   "source": [
    "arr = np.random.randn(3, 4, 5)\n",
    "depth_means = arr.mean(2)\n",
    "arr - depth_means[:, :, np.newaxis]"
   ]
  },
  {
   "cell_type": "markdown",
   "metadata": {},
   "source": [
    "Value setting by broadcasting"
   ]
  },
  {
   "cell_type": "code",
   "execution_count": 224,
   "metadata": {},
   "outputs": [
    {
     "data": {
      "text/plain": [
       "array([[ 5.,  5.,  5.],\n",
       "       [ 5.,  5.,  5.],\n",
       "       [ 5.,  5.,  5.],\n",
       "       [ 5.,  5.,  5.]])"
      ]
     },
     "execution_count": 224,
     "metadata": {},
     "output_type": "execute_result"
    }
   ],
   "source": [
    "arr = np.zeros((4, 3))\n",
    "arr[:] = 5\n",
    "arr"
   ]
  },
  {
   "cell_type": "code",
   "execution_count": 226,
   "metadata": {},
   "outputs": [
    {
     "name": "stdout",
     "output_type": "stream",
     "text": [
      "[[ 1.1  1.1  1.1]\n",
      " [ 1.2  1.2  1.2]\n",
      " [ 1.3  1.3  1.3]\n",
      " [ 1.4  1.4  1.4]]\n",
      "\n",
      "[[-1.37  -1.37  -1.37 ]\n",
      " [ 0.509  0.509  0.509]\n",
      " [ 1.3    1.3    1.3  ]\n",
      " [ 1.4    1.4    1.4  ]]\n"
     ]
    }
   ],
   "source": [
    "col = np.array([1.1, 1.2, 1.3, 1.4])\n",
    "arr[:] = col[:, np.newaxis]\n",
    "print arr\n",
    "arr[:2] = [[-1.37], [0.509]]\n",
    "print\n",
    "print arr"
   ]
  },
  {
   "cell_type": "markdown",
   "metadata": {},
   "source": [
    "#### ufunc"
   ]
  },
  {
   "cell_type": "code",
   "execution_count": 227,
   "metadata": {},
   "outputs": [
    {
     "data": {
      "text/plain": [
       "45"
      ]
     },
     "execution_count": 227,
     "metadata": {},
     "output_type": "execute_result"
    }
   ],
   "source": [
    "arr = np.arange(10)\n",
    "np.add.reduce(arr)"
   ]
  },
  {
   "cell_type": "markdown",
   "metadata": {},
   "source": [
    "`outer` performs a pairwise cross-product between two arrays"
   ]
  },
  {
   "cell_type": "markdown",
   "metadata": {},
   "source": [
    "`reduceat`, performs a “local reduce”, in essence an array groupby operation in which slices of the array are aggregated together"
   ]
  },
  {
   "cell_type": "code",
   "execution_count": 229,
   "metadata": {},
   "outputs": [
    {
     "name": "stdout",
     "output_type": "stream",
     "text": [
      "[[ 0  0  0  0  0]\n",
      " [ 0  1  2  3  4]\n",
      " [ 0  2  4  6  8]\n",
      " [ 0  3  6  9 12]]\n"
     ]
    },
    {
     "data": {
      "text/plain": [
       "array([[ 0,  0,  0],\n",
       "       [ 1,  5,  4],\n",
       "       [ 2, 10,  8],\n",
       "       [ 3, 15, 12]])"
      ]
     },
     "execution_count": 229,
     "metadata": {},
     "output_type": "execute_result"
    }
   ],
   "source": [
    "arr = np.multiply.outer(np.arange(4), np.arange(5))\n",
    "print arr\n",
    "np.add.reduceat(arr, [0, 2, 4], axis=1)"
   ]
  },
  {
   "cell_type": "markdown",
   "metadata": {},
   "source": [
    "Custom ufuncs"
   ]
  },
  {
   "cell_type": "code",
   "execution_count": 230,
   "metadata": {
    "collapsed": true
   },
   "outputs": [],
   "source": [
    "def add_elements(x, y):\n",
    "    return x + y"
   ]
  },
  {
   "cell_type": "code",
   "execution_count": 231,
   "metadata": {},
   "outputs": [
    {
     "data": {
      "text/plain": [
       "array([0, 2, 4, 6, 8, 10, 12, 14], dtype=object)"
      ]
     },
     "execution_count": 231,
     "metadata": {},
     "output_type": "execute_result"
    }
   ],
   "source": [
    "add_them = np.frompyfunc(add_elements, 2, 1)\n",
    "add_them(np.arange(8), np.arange(8))"
   ]
  },
  {
   "cell_type": "markdown",
   "metadata": {},
   "source": [
    "#### Structured arrays"
   ]
  },
  {
   "cell_type": "markdown",
   "metadata": {},
   "source": [
    " A structured array is an ndarray in which each element can be thought of as representing a struct in C or a row in a SQL table with multiple named fields"
   ]
  },
  {
   "cell_type": "code",
   "execution_count": 235,
   "metadata": {},
   "outputs": [
    {
     "data": {
      "text/plain": [
       "array([(1.5, 6), (3.141592653589793, -2)], \n",
       "      dtype=[('x', '<f8'), ('y', '<i4')])"
      ]
     },
     "execution_count": 235,
     "metadata": {},
     "output_type": "execute_result"
    }
   ],
   "source": [
    "dtype = [('x', np.float64), ('y', np.int32)]\n",
    "sarr = np.array([(1.5, 6), (np.pi, -2)], dtype=dtype)\n",
    "sarr"
   ]
  },
  {
   "cell_type": "code",
   "execution_count": 236,
   "metadata": {},
   "outputs": [
    {
     "name": "stdout",
     "output_type": "stream",
     "text": [
      "(1.5, 6)\n",
      "6\n",
      "[ 1.5         3.14159265]\n"
     ]
    }
   ],
   "source": [
    "print sarr[0]\n",
    "print sarr[0]['y']\n",
    "print sarr['x']"
   ]
  },
  {
   "cell_type": "code",
   "execution_count": 238,
   "metadata": {},
   "outputs": [
    {
     "name": "stdout",
     "output_type": "stream",
     "text": [
      "array([([0, 0, 0], 0), ([0, 0, 0], 0), ([0, 0, 0], 0), ([0, 0, 0], 0)], \n",
      "      dtype=[('x', '<i8', (3,)), ('y', '<i4')])\n",
      "[[0 0 0]\n",
      " [0 0 0]\n",
      " [0 0 0]\n",
      " [0 0 0]]\n"
     ]
    }
   ],
   "source": [
    "dtype = [('x', np.int64, 3), ('y', np.int32)]\n",
    "arr = np.zeros(4, dtype=dtype)\n",
    "print repr(arr)\n",
    "print arr['x']"
   ]
  },
  {
   "cell_type": "markdown",
   "metadata": {},
   "source": [
    "Since each element in the array is represented in memory as a fixed number of bytes, structured arrays provide a very fast and efficient way of writing data to and from disk, transporting it over the network, and other such use."
   ]
  },
  {
   "cell_type": "markdown",
   "metadata": {},
   "source": [
    "#### Memmap files"
   ]
  },
  {
   "cell_type": "code",
   "execution_count": 239,
   "metadata": {},
   "outputs": [
    {
     "data": {
      "text/plain": [
       "memmap([[ 0.,  0.,  0., ...,  0.,  0.,  0.],\n",
       "       [ 0.,  0.,  0., ...,  0.,  0.,  0.],\n",
       "       [ 0.,  0.,  0., ...,  0.,  0.,  0.],\n",
       "       ..., \n",
       "       [ 0.,  0.,  0., ...,  0.,  0.,  0.],\n",
       "       [ 0.,  0.,  0., ...,  0.,  0.,  0.],\n",
       "       [ 0.,  0.,  0., ...,  0.,  0.,  0.]])"
      ]
     },
     "execution_count": 239,
     "metadata": {},
     "output_type": "execute_result"
    }
   ],
   "source": [
    "mmap = np.memmap('mymmap', dtype='float64', mode='w+', shape=(10000, 10000))\n",
    "mmap"
   ]
  },
  {
   "cell_type": "code",
   "execution_count": 240,
   "metadata": {},
   "outputs": [
    {
     "data": {
      "text/plain": [
       "memmap([[ 0.29049663,  1.15759966,  0.45075893, ...,  1.34041625,\n",
       "         0.2451881 ,  0.56982174],\n",
       "       [-0.12917797,  0.77892388, -0.95957207, ...,  0.16777609,\n",
       "         0.65702339,  0.31122661],\n",
       "       [-1.23377841,  0.92217495,  1.21583828, ..., -0.42829195,\n",
       "        -0.62919348, -0.51406487],\n",
       "       ..., \n",
       "       [ 0.        ,  0.        ,  0.        , ...,  0.        ,\n",
       "         0.        ,  0.        ],\n",
       "       [ 0.        ,  0.        ,  0.        , ...,  0.        ,\n",
       "         0.        ,  0.        ],\n",
       "       [ 0.        ,  0.        ,  0.        , ...,  0.        ,\n",
       "         0.        ,  0.        ]])"
      ]
     },
     "execution_count": 240,
     "metadata": {},
     "output_type": "execute_result"
    }
   ],
   "source": [
    "section = mmap[:5]\n",
    "section[:] = np.random.randn(5, 10000)\n",
    "mmap.flush()\n",
    "mmap"
   ]
  },
  {
   "cell_type": "code",
   "execution_count": 241,
   "metadata": {
    "collapsed": true
   },
   "outputs": [],
   "source": [
    "del mmap"
   ]
  },
  {
   "cell_type": "markdown",
   "metadata": {},
   "source": [
    "#### HDF5"
   ]
  },
  {
   "cell_type": "code",
   "execution_count": null,
   "metadata": {
    "collapsed": true
   },
   "outputs": [],
   "source": [
    "class HDFStore(object):\n",
    "    def __init__(self, store):\n",
    "        store_name, self.store_key = store\n",
    "        self.storage = pd.HDFStore(store_name)\n",
    "\n",
    "    def get(self, key=None):\n",
    "        key = key if key else self.store_key\n",
    "        try:\n",
    "            return self.storage[key]\n",
    "        except:\n",
    "            return None\n",
    "\n",
    "    def put(self, data, key=None):\n",
    "        key = key if key else self.store_key\n",
    "        self.storage[key] = data"
   ]
  },
  {
   "cell_type": "markdown",
   "metadata": {},
   "source": [
    "### References"
   ]
  },
  {
   "cell_type": "markdown",
   "metadata": {},
   "source": [
    "* https://docs.scipy.org/doc/numpy/reference/internals.html\n",
    "* https://docs.scipy.org/doc/numpy-1.13.0/reference/arrays.ndarray.html#internal-memory-layout-of-an-ndarray\n",
    "* http://eli.thegreenplace.net/2015/memory-layout-of-multi-dimensional-arrays/\n",
    "* https://support.hdfgroup.org/HDF5/"
   ]
  },
  {
   "cell_type": "markdown",
   "metadata": {},
   "source": [
    "### Summary"
   ]
  },
  {
   "cell_type": "markdown",
   "metadata": {},
   "source": [
    "* Convert Python loops and conditional logic to array operations and boolean array operations\n",
    "* Use broadcasting whenever possible\n",
    "* Avoid copying data using array views (slicing)\n",
    "* Utilize ufuncs and ufunc methods"
   ]
  }
 ],
 "metadata": {
  "kernelspec": {
   "display_name": "Python 2",
   "language": "python",
   "name": "python2"
  },
  "language_info": {
   "codemirror_mode": {
    "name": "ipython",
    "version": 2
   },
   "file_extension": ".py",
   "mimetype": "text/x-python",
   "name": "python",
   "nbconvert_exporter": "python",
   "pygments_lexer": "ipython2",
   "version": "2.7.10"
  }
 },
 "nbformat": 4,
 "nbformat_minor": 1
}
