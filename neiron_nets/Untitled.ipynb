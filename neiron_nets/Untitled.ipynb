{
 "cells": [
  {
   "cell_type": "code",
   "execution_count": 1,
   "metadata": {},
   "outputs": [
    {
     "ename": "SyntaxError",
     "evalue": "Missing parentheses in call to 'print'. Did you mean print(rs)? (<ipython-input-1-78f8947dd8ae>, line 22)",
     "output_type": "error",
     "traceback": [
      "\u001b[0;36m  File \u001b[0;32m\"<ipython-input-1-78f8947dd8ae>\"\u001b[0;36m, line \u001b[0;32m22\u001b[0m\n\u001b[0;31m    print rs\u001b[0m\n\u001b[0m           ^\u001b[0m\n\u001b[0;31mSyntaxError\u001b[0m\u001b[0;31m:\u001b[0m Missing parentheses in call to 'print'. Did you mean print(rs)?\n"
     ]
    }
   ],
   "source": [
    "import numpy as np\n",
    "a = np.array([[1, 2, 3], [4, 5, 6]])\n",
    "#print a\n",
    "#print a.shape\n",
    "m = np.array(range(10))\n",
    "#print m, m.shape\n",
    "e = np.eye(10, M=4, k=2)\n",
    "#print e, e.shape\n",
    "z = np.zeros((3, 3, 3))\n",
    "#print z\n",
    "o = np.ones((3, 3, 3))\n",
    "#print o\n",
    "f = np.full((3, 3, 3), 4.78)\n",
    "#print f\n",
    "b = np.array([[1, 2, 3], [4, 5, 6]])\n",
    "#print b, b.shape\n",
    "c = b.flatten()\n",
    "#print c\n",
    "bt = b.T\n",
    "#print bt\n",
    "rs = b.reshape((3, 2))\n",
    "print rs\n",
    "import random\n",
    "w = np.array(random.sample(range(1000), 12))\n",
    "w = w.reshape((2, 2, 3))\n",
    "print w\n",
    "print '\\n'\n",
    "#print w.transpose(0, 2, 1)\n",
    "'''print w.min()\n",
    "print w.max(axis=0) \n",
    "print w.mean(axis=1)\n",
    "print w.std(axis=2)\n",
    "print w.mean(axis=None)\n",
    "print w.sum(axis=1)\n",
    "print w.prod(axis=2)\n",
    "print w.cumsum(axis=0)\n",
    "print w.cumprod(axis=1)'''\n",
    "a.dot(b)\n",
    "np.linalg.matrix_power(M, n)\n",
    "np.linalg.norm(a, ord=None)\n",
    "np.linalg.inv(a)"
   ]
  },
  {
   "cell_type": "code",
   "execution_count": 76,
   "metadata": {},
   "outputs": [],
   "source": [
    "mat = np.eye(3, M=4) + np.eye(3, M=4) + np.eye(3, M=4, k=1)\n",
    "#print mat\n",
    "f = mat.flatten()\n",
    "a = f.reshape((12, 1))\n",
    "#print a"
   ]
  },
  {
   "cell_type": "code",
   "execution_count": 2,
   "metadata": {},
   "outputs": [
    {
     "name": "stdout",
     "output_type": "stream",
     "text": [
      "2 3 \n",
      "1 2 3 4 5 6 \n",
      "4 3\n",
      "1 2 3 4 5 6  7 8 9 0 11 12\n",
      "[[ 14  32  50  58]\n",
      " [ 32  77 122 127]]\n"
     ]
    }
   ],
   "source": [
    "import numpy as np \n",
    "\n",
    "x_shape = tuple(map(int, input().split()))\n",
    "X = np.fromiter(map(int, input().split()), np.int).reshape(x_shape)\n",
    "y_shape = tuple(map(int, input().split()))\n",
    "Y = np.fromiter(map(int, input().split()), np.int).reshape(y_shape)\n",
    "Y = Y.T\n",
    "try:\n",
    "    print(X.dot(Y))\n",
    "except ValueError:\n",
    "    print('matrix shapes do not match')"
   ]
  },
  {
   "cell_type": "code",
   "execution_count": 13,
   "metadata": {},
   "outputs": [
    {
     "name": "stdout",
     "output_type": "stream",
     "text": [
      "1\n",
      "1\n",
      "1\n",
      "1\n"
     ]
    },
    {
     "data": {
      "text/plain": [
       "1"
      ]
     },
     "execution_count": 13,
     "metadata": {},
     "output_type": "execute_result"
    }
   ],
   "source": [
    "\n",
    "\n",
    "x_shape = tuple(map(int, input().split()))\n",
    "X = np.fromiter(map(int, input().split()), np.int).reshape(x_shape)\n",
    "y_shape = tuple(map(int, input().split()))\n",
    "Y = np.fromiter(map(int, input().split()), np.int).reshape(y_shape)\n",
    "Y = Y.T\n",
    "X.dot(Y)"
   ]
  },
  {
   "cell_type": "code",
   "execution_count": null,
   "metadata": {},
   "outputs": [],
   "source": [
    "from urllib.request import urlopen\n",
    "import numpy as np\n",
    "\n",
    "filename = input()\n",
    "f = urlopen(filename)\n",
    "\n",
    "data = np.loadtxt(f, skiprows=1, delimiter=',')\n",
    "type(data)\n",
    "ans = data.mean(axis=0)\n",
    "print(ans)"
   ]
  },
  {
   "cell_type": "code",
   "execution_count": 31,
   "metadata": {},
   "outputs": [
    {
     "name": "stdout",
     "output_type": "stream",
     "text": [
      "[[-2.34210526]\n",
      " [ 0.19473684]]\n"
     ]
    }
   ],
   "source": [
    "import numpy as np\n",
    "x = np.array(([3, 185], [185, 11725]))\n",
    "#print(x)\n",
    "x = np.matrix(([3, 185], [185, 11725]))\n",
    "x1 = x.I\n",
    "r = np.matrix([[29], [1850]])\n",
    "b = x1 * r\n",
    "print(b)"
   ]
  },
  {
   "cell_type": "code",
   "execution_count": 62,
   "metadata": {},
   "outputs": [
    {
     "name": "stdout",
     "output_type": "stream",
     "text": [
      "-3.655804285058417 -0.2163955023691392 0.07373059817548971 4.412450576912836 -25.46844878410251 7.143201550745909 -1.3010876776491929\n"
     ]
    }
   ],
   "source": [
    "import numpy as np\n",
    "with open('/home/vasya/Downloads/boston_houses.csv', 'r') as f:\n",
    "    data = np.loadtxt(f, delimiter=',', skiprows=1)\n",
    "#print(type(data))\n",
    "Y = data[:, 0][:, np.newaxis]\n",
    "#print(data)\n",
    "#print(data.shape)\n",
    "data = data[:, 1:]\n",
    "ones = np.ones(data.shape[0])[:, np.newaxis]\n",
    "#print(ones.shape, ones)\n",
    "X  = np.hstack((ones, data))\n",
    "#print(X)\n",
    "first = np.matrix(X.T.dot(X)).I\n",
    "first = np.array(first)\n",
    "#print(first.shape, X.T.shape, Y.shape)\n",
    "b = (first.dot(X.T)).dot(Y)\n",
    "\n",
    "#print(b.shape)\n",
    "#print(type(b))\n",
    "b = b.flatten()\n",
    "#print(b)\n",
    "ans  = ' '.join(map(str, b))\n",
    "print(ans)\n",
    "#print(type(ans))\n",
    "n = np.array(range(10))\n",
    "#print(' '.join(map(str, n)))"
   ]
  }
 ],
 "metadata": {
  "kernelspec": {
   "display_name": "Python 3",
   "language": "python",
   "name": "python3"
  }
 },
 "nbformat": 4,
 "nbformat_minor": 2
}
